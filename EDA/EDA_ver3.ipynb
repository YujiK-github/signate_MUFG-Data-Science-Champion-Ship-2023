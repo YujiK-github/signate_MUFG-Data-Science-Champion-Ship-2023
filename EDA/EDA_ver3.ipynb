{
 "cells": [
  {
   "cell_type": "code",
   "execution_count": 2,
   "metadata": {},
   "outputs": [],
   "source": [
    "# ===============================================================\n",
    "#  Library\n",
    "# ===============================================================\n",
    "import numpy as np\n",
    "import polars as pl\n",
    "\n",
    "from iterstrat.ml_stratifiers import MultilabelStratifiedKFold\n",
    "\n",
    "import warnings\n",
    "warnings.simplefilter(\"ignore\")\n",
    "\n",
    "import lightgbm as lgb\n",
    "\n",
    "import sys\n",
    "sys.path.append(\"G:/マイドライブ/signate_MUFJ2023/\")\n",
    "from MUFJ.utils import get_score, seed_everything\n",
    "from MUFJ.preprocessing import CustomOrdinalEncoder\n",
    "\n",
    "from math import comb\n",
    "import xgboost as xgb\n",
    "from tqdm.auto import tqdm\n",
    "from itertools import combinations\n",
    "\n",
    "import matplotlib.pyplot as plt\n",
    "import seaborn as sns"
   ]
  },
  {
   "cell_type": "code",
   "execution_count": 3,
   "metadata": {},
   "outputs": [],
   "source": [
    "# ===============================================================\n",
    "#  CFG\n",
    "# ===============================================================\n",
    "class CFG:\n",
    "    debug = False\n",
    "    seed = 42\n",
    "    n_splits = 5\n",
    "    num_cores = 4\n",
    "    data_dir = \"G:/マイドライブ/signate_MUFJ2023/data/\"\n",
    "    stopping_rounds = 100\n",
    "    save_dir = \"G:/マイドライブ/signate_MUFJ2023/exp/\"\n",
    "    filename = \"exp003\"\n",
    "    numerical_features = [\n",
    "        \"amount\", 'cards_issued', 'credit_limit','year_pin_last_changed','current_age','retirement_age','birth_year','birth_month', 'latitude', 'longitude',\n",
    "        'per_capita_income_zipcode', 'yearly_income_person', 'total_debt','fico_score', 'num_credit_cards', 'expires_month','expires_year','acct_open_date_month', \n",
    "        'acct_open_date_year', \"YearsFromAcctOpenToPinChange\",\n",
    "        ]\n",
    "    categorical_features = [\n",
    "        \"errors?\", 'merchant_id', 'merchant_city','merchant_state','zip',\"mcc\",'use_chip','card_brand','card_type', 'has_chip','gender', 'city', 'state', 'zipcode',\n",
    "        \"card_id\", \"user_id\", \"same_zipcode_as_zip\", \"city_is_ONLINE\",\n",
    "        ]\n",
    "    target_cols = [\"is_fraud?\"]"
   ]
  },
  {
   "cell_type": "code",
   "execution_count": 4,
   "metadata": {},
   "outputs": [],
   "source": [
    "# ===============================================================\n",
    "#  Utils\n",
    "# ===============================================================\n",
    "seed_everything(CFG.seed)"
   ]
  },
  {
   "cell_type": "code",
   "execution_count": 5,
   "metadata": {},
   "outputs": [],
   "source": [
    "# ===============================================================\n",
    "#  Data Loading\n",
    "# ===============================================================\n",
    "train = pl.read_csv(CFG.data_dir+\"train.csv\")\n",
    "test = pl.read_csv(CFG.data_dir+\"test.csv\")\n",
    "card = pl.read_csv(CFG.data_dir+\"card.csv\")\n",
    "user = pl.read_csv(CFG.data_dir+\"user.csv\")\n",
    "\n",
    "train = train.with_columns(\n",
    "    pl.lit(\"train\").alias(\"flag\")\n",
    ")\n",
    "test = test.with_columns(\n",
    "    [\n",
    "        pl.lit(None, dtype=pl.Int64).alias(\"is_fraud?\"),\n",
    "        pl.lit(\"test\").alias(\"flag\"),\n",
    "    ]\n",
    ")\n",
    "\n",
    "if CFG.debug:\n",
    "    train = train.sample(n=10000, seed=CFG.seed)\n",
    "    test = test.sample(n=1000, seed=CFG.seed)\n",
    "\n",
    "all_data = pl.concat([train, test], how=\"align\")\n",
    "all_data = all_data.join(\n",
    "    card, on=[\"user_id\", \"card_id\"], how=\"left\"\n",
    ")\n",
    "all_data = all_data.join(\n",
    "    user, on=\"user_id\", how=\"left\"\n",
    ")"
   ]
  },
  {
   "cell_type": "code",
   "execution_count": 6,
   "metadata": {},
   "outputs": [],
   "source": [
    "# ===============================================================\n",
    "#  Preprocessing\n",
    "# ===============================================================\n",
    "def preprocessing(all_data: pl.DataFrame) -> pl.DataFrame:\n",
    "    \n",
    "    all_data = all_data.with_columns(\n",
    "        [   \n",
    "            # str -> float\n",
    "            pl.col(\"amount\").apply(lambda x: x[1:]).cast(pl.Float64),\n",
    "            pl.col(\"total_debt\").apply(lambda x: x[1:]).cast(pl.Float64),\n",
    "            pl.col(\"credit_limit\").apply(lambda x: x[1:]).cast(pl.Float64),\n",
    "            pl.col(\"yearly_income_person\").apply(lambda x: x[1:]).cast(pl.Float64),\n",
    "            pl.col(\"per_capita_income_zipcode\").apply(lambda x: x[1:]).cast(pl.Float64),\n",
    "            \n",
    "            # str -> Datetime\n",
    "            pl.col(\"expires\").str.strptime(dtype=pl.Date, format=\"%m/%Y\"),\n",
    "            pl.col(\"acct_open_date\").str.strptime(dtype=pl.Date, format=\"%m/%Y\"),\n",
    "            \n",
    "            # bool\n",
    "            (pl.col(\"zip\") == pl.col(\"zipcode\")).alias(\"same_zipcode_as_zip\"),\n",
    "            (pl.col(\"state\") == pl.col(\"merchant_state\")).alias(\"same_state\"),\n",
    "            #(pl.col(\"city\") == pl.col(\"merchant_city\")).alias(\"same_city\"),\n",
    "            (pl.col(\"merchant_city\") == \"ONLINE\").alias(\"city_is_ONLINE\"),\n",
    "            #pl.when((pl.col(\"merchant_city\").is_null())&(pl.col(\"merchant_city\") != \"ONLINE\")) ## TODO: 上手くまとめられないかな\n",
    "            #.then(pl.lit(True))\n",
    "            #.otherwise(pl.lit(False))\n",
    "            #.alias(\"city_is_not_America\"),\n",
    "\n",
    "            # user_id + card_id\n",
    "            (pl.col(\"user_id\").cast(pl.Utf8) + \"-\" + pl.col(\"card_id\").cast(pl.Utf8)).alias(\"user_card_id\"),\n",
    "        ]\n",
    "    )\n",
    "    \n",
    "    \n",
    "    all_data = all_data.with_columns(\n",
    "        [\n",
    "            # Datetime -> Month, Year\n",
    "            pl.col(\"expires\").dt.year().suffix(\"_year\"),\n",
    "            pl.col(\"expires\").dt.month().suffix(\"_month\"),\n",
    "            pl.col(\"acct_open_date\").dt.year().suffix(\"_year\"),\n",
    "            pl.col(\"acct_open_date\").dt.month().suffix(\"_month\"),\n",
    "        \n",
    "            # feature_engineering\n",
    "            #(pl.col(\"amount\") - pl.col(\"credit_limit\")).cast(pl.Float64).alias(\"remaining_credit\"),\n",
    "        ]\n",
    "    )\n",
    "    \n",
    "    all_data = all_data.with_columns(\n",
    "        [\n",
    "            #(2023 - pl.col('year_pin_last_changed')).alias(\"YearsSincePinChange\"),\n",
    "            (pl.col(\"year_pin_last_changed\") - pl.col(\"acct_open_date_year\")).alias(\"YearsFromAcctOpenToPinChange\"),\n",
    "            #(pl.col(\"retirement_age\") - pl.col(\"current_age\")).alias(\"YearsUntilRetirement\"),\n",
    "            (pl.col(\"expires_year\") - pl.col(\"year_pin_last_changed\")).alias(\"YearsFromPinChangeToExpires\"),\n",
    "        ]\n",
    "    )\n",
    "    \n",
    "    \n",
    "    return all_data\n",
    "all_data = preprocessing(all_data)"
   ]
  },
  {
   "cell_type": "code",
   "execution_count": 7,
   "metadata": {},
   "outputs": [
    {
     "data": {
      "text/html": [
       "<div><style>\n",
       ".dataframe > thead > tr > th,\n",
       ".dataframe > tbody > tr > td {\n",
       "  text-align: right;\n",
       "}\n",
       "</style>\n",
       "<small>shape: (109, 2)</small><table border=\"1\" class=\"dataframe\"><thead><tr><th>mcc</th><th>amount</th></tr><tr><td>i64</td><td>f64</td></tr></thead><tbody><tr><td>3504</td><td>161.08938</td></tr><tr><td>4784</td><td>32.57881</td></tr><tr><td>3640</td><td>142.836434</td></tr><tr><td>3144</td><td>116.004</td></tr><tr><td>5192</td><td>72.001414</td></tr><tr><td>7832</td><td>99.84344</td></tr><tr><td>3000</td><td>146.455369</td></tr><tr><td>5712</td><td>104.569021</td></tr><tr><td>3256</td><td>104.427245</td></tr><tr><td>5816</td><td>139.30034</td></tr><tr><td>3008</td><td>225.053538</td></tr><tr><td>5912</td><td>107.30112</td></tr><tr><td>&hellip;</td><td>&hellip;</td></tr><tr><td>3006</td><td>85.791174</td></tr><tr><td>5311</td><td>118.674701</td></tr><tr><td>3359</td><td>120.22796</td></tr><tr><td>8111</td><td>86.902571</td></tr><tr><td>5655</td><td>128.938016</td></tr><tr><td>5719</td><td>118.037619</td></tr><tr><td>5815</td><td>75.778933</td></tr><tr><td>4111</td><td>89.844707</td></tr><tr><td>3007</td><td>82.880438</td></tr><tr><td>4511</td><td>185.537727</td></tr><tr><td>3775</td><td>119.374295</td></tr><tr><td>1711</td><td>127.836875</td></tr></tbody></table></div>"
      ],
      "text/plain": [
       "shape: (109, 2)\n",
       "┌──────┬────────────┐\n",
       "│ mcc  ┆ amount     │\n",
       "│ ---  ┆ ---        │\n",
       "│ i64  ┆ f64        │\n",
       "╞══════╪════════════╡\n",
       "│ 3504 ┆ 161.08938  │\n",
       "│ 4784 ┆ 32.57881   │\n",
       "│ 3640 ┆ 142.836434 │\n",
       "│ 3144 ┆ 116.004    │\n",
       "│ …    ┆ …          │\n",
       "│ 3007 ┆ 82.880438  │\n",
       "│ 4511 ┆ 185.537727 │\n",
       "│ 3775 ┆ 119.374295 │\n",
       "│ 1711 ┆ 127.836875 │\n",
       "└──────┴────────────┘"
      ]
     },
     "execution_count": 7,
     "metadata": {},
     "output_type": "execute_result"
    }
   ],
   "source": [
    "all_data[[\"amount\", \"mcc\", \"is_fraud?\"]].filter(\n",
    "    pl.col(\"is_fraud?\") == 1\n",
    ").groupby(\"mcc\").agg(\n",
    "    pl.col(\"amount\").mean()\n",
    ")"
   ]
  },
  {
   "cell_type": "code",
   "execution_count": 8,
   "metadata": {},
   "outputs": [
    {
     "data": {
      "text/plain": [
       "['index',\n",
       " 'user_id',\n",
       " 'card_id',\n",
       " 'amount',\n",
       " 'errors?',\n",
       " 'is_fraud?',\n",
       " 'merchant_id',\n",
       " 'merchant_city',\n",
       " 'merchant_state',\n",
       " 'zip',\n",
       " 'mcc',\n",
       " 'use_chip',\n",
       " 'flag',\n",
       " 'card_brand',\n",
       " 'card_type',\n",
       " 'expires',\n",
       " 'has_chip',\n",
       " 'cards_issued',\n",
       " 'credit_limit',\n",
       " 'acct_open_date',\n",
       " 'year_pin_last_changed',\n",
       " 'current_age',\n",
       " 'retirement_age',\n",
       " 'birth_year',\n",
       " 'birth_month',\n",
       " 'gender',\n",
       " 'address',\n",
       " 'city',\n",
       " 'state',\n",
       " 'zipcode',\n",
       " 'latitude',\n",
       " 'longitude',\n",
       " 'per_capita_income_zipcode',\n",
       " 'yearly_income_person',\n",
       " 'total_debt',\n",
       " 'fico_score',\n",
       " 'num_credit_cards',\n",
       " 'same_zipcode_as_zip',\n",
       " 'same_state',\n",
       " 'city_is_ONLINE',\n",
       " 'user_card_id',\n",
       " 'expires_year',\n",
       " 'expires_month',\n",
       " 'acct_open_date_year',\n",
       " 'acct_open_date_month',\n",
       " 'YearsFromAcctOpenToPinChange',\n",
       " 'YearsFromPinChangeToExpires']"
      ]
     },
     "execution_count": 8,
     "metadata": {},
     "output_type": "execute_result"
    }
   ],
   "source": [
    "all_data.columns"
   ]
  },
  {
   "cell_type": "code",
   "execution_count": 19,
   "metadata": {},
   "outputs": [
    {
     "data": {
      "text/html": [
       "<div><style>\n",
       ".dataframe > thead > tr > th,\n",
       ".dataframe > tbody > tr > td {\n",
       "  text-align: right;\n",
       "}\n",
       "</style>\n",
       "<small>shape: (929_241, 47)</small><table border=\"1\" class=\"dataframe\"><thead><tr><th>index</th><th>user_id</th><th>card_id</th><th>amount</th><th>errors?</th><th>is_fraud?</th><th>merchant_id</th><th>merchant_city</th><th>merchant_state</th><th>zip</th><th>mcc</th><th>use_chip</th><th>flag</th><th>card_brand</th><th>card_type</th><th>expires</th><th>has_chip</th><th>cards_issued</th><th>credit_limit</th><th>acct_open_date</th><th>year_pin_last_changed</th><th>current_age</th><th>retirement_age</th><th>birth_year</th><th>birth_month</th><th>gender</th><th>address</th><th>city</th><th>state</th><th>zipcode</th><th>latitude</th><th>longitude</th><th>per_capita_income_zipcode</th><th>yearly_income_person</th><th>total_debt</th><th>fico_score</th><th>num_credit_cards</th><th>same_zipcode_as_zip</th><th>same_state</th><th>city_is_ONLINE</th><th>user_card_id</th><th>expires_year</th><th>expires_month</th><th>acct_open_date_year</th><th>acct_open_date_month</th><th>YearsFromAcctOpenToPinChange</th><th>YearsFromPinChangeToExpires</th></tr><tr><td>i64</td><td>i64</td><td>i64</td><td>f64</td><td>str</td><td>i64</td><td>i64</td><td>str</td><td>str</td><td>f64</td><td>i64</td><td>str</td><td>str</td><td>str</td><td>str</td><td>date</td><td>str</td><td>i64</td><td>f64</td><td>date</td><td>i64</td><td>i64</td><td>i64</td><td>i64</td><td>i64</td><td>str</td><td>str</td><td>str</td><td>str</td><td>i64</td><td>f64</td><td>f64</td><td>f64</td><td>f64</td><td>f64</td><td>i64</td><td>i64</td><td>bool</td><td>bool</td><td>bool</td><td>str</td><td>i32</td><td>u32</td><td>i32</td><td>u32</td><td>i64</td><td>i64</td></tr></thead><tbody><tr><td>0</td><td>1721</td><td>0</td><td>2.623</td><td>&quot;OK&quot;</td><td>0</td><td>209237</td><td>&quot;Joliet&quot;</td><td>&quot;IL&quot;</td><td>60436.0</td><td>5541</td><td>&quot;Swipe Transact…</td><td>&quot;train&quot;</td><td>&quot;Mastercard&quot;</td><td>&quot;Credit&quot;</td><td>2021-10-01</td><td>&quot;YES&quot;</td><td>1</td><td>6900.0</td><td>1995-09-01</td><td>2009</td><td>61</td><td>65</td><td>1958</td><td>5</td><td>&quot;Male&quot;</td><td>&quot;206 Pine Lane&quot;</td><td>&quot;Joliet&quot;</td><td>&quot;IL&quot;</td><td>60436</td><td>41.52</td><td>-88.12</td><td>17567.0</td><td>35823.0</td><td>96691.0</td><td>732</td><td>3</td><td>true</td><td>true</td><td>false</td><td>&quot;1721-0&quot;</td><td>2021</td><td>10</td><td>1995</td><td>9</td><td>14</td><td>12</td></tr><tr><td>1</td><td>1629</td><td>3</td><td>6.4</td><td>&quot;OK&quot;</td><td>0</td><td>2568</td><td>&quot;Edgerton&quot;</td><td>&quot;WI&quot;</td><td>53534.0</td><td>5814</td><td>&quot;Swipe Transact…</td><td>&quot;train&quot;</td><td>&quot;Mastercard&quot;</td><td>&quot;Debit (Prepaid…</td><td>2022-12-01</td><td>&quot;YES&quot;</td><td>2</td><td>110.0</td><td>1999-06-01</td><td>2017</td><td>50</td><td>69</td><td>1969</td><td>4</td><td>&quot;Female&quot;</td><td>&quot;8886 Little Cr…</td><td>&quot;Edgerton&quot;</td><td>&quot;WI&quot;</td><td>53534</td><td>42.83</td><td>-89.07</td><td>21348.0</td><td>43529.0</td><td>126175.0</td><td>797</td><td>6</td><td>true</td><td>true</td><td>false</td><td>&quot;1629-3&quot;</td><td>2022</td><td>12</td><td>1999</td><td>6</td><td>18</td><td>5</td></tr><tr><td>2</td><td>655</td><td>3</td><td>123.5</td><td>&quot;OK&quot;</td><td>0</td><td>345310</td><td>&quot;Ridgefield&quot;</td><td>&quot;WA&quot;</td><td>98642.0</td><td>7538</td><td>&quot;Swipe Transact…</td><td>&quot;train&quot;</td><td>&quot;Mastercard&quot;</td><td>&quot;Debit&quot;</td><td>2024-05-01</td><td>&quot;YES&quot;</td><td>1</td><td>24090.0</td><td>1998-09-01</td><td>2009</td><td>56</td><td>68</td><td>1963</td><td>7</td><td>&quot;Male&quot;</td><td>&quot;273 Ocean Stre…</td><td>&quot;Ridgefield&quot;</td><td>&quot;WA&quot;</td><td>98642</td><td>45.79</td><td>-122.69</td><td>27308.0</td><td>55682.0</td><td>82696.0</td><td>750</td><td>4</td><td>true</td><td>true</td><td>false</td><td>&quot;655-3&quot;</td><td>2024</td><td>5</td><td>1998</td><td>9</td><td>11</td><td>15</td></tr><tr><td>3</td><td>492</td><td>0</td><td>51.287</td><td>&quot;OK&quot;</td><td>0</td><td>4295</td><td>&quot;Milton&quot;</td><td>&quot;FL&quot;</td><td>32583.0</td><td>5912</td><td>&quot;Chip Transacti…</td><td>&quot;train&quot;</td><td>&quot;Visa&quot;</td><td>&quot;Credit&quot;</td><td>2022-03-01</td><td>&quot;YES&quot;</td><td>1</td><td>10300.0</td><td>1993-04-01</td><td>2013</td><td>68</td><td>65</td><td>1951</td><td>3</td><td>&quot;Female&quot;</td><td>&quot;7276 Valley Dr…</td><td>&quot;Sioux Falls&quot;</td><td>&quot;SD&quot;</td><td>57107</td><td>43.54</td><td>-96.73</td><td>20153.0</td><td>39082.0</td><td>16870.0</td><td>722</td><td>4</td><td>false</td><td>false</td><td>false</td><td>&quot;492-0&quot;</td><td>2022</td><td>3</td><td>1993</td><td>4</td><td>20</td><td>9</td></tr><tr><td>4</td><td>1969</td><td>4</td><td>17.561</td><td>&quot;OK&quot;</td><td>0</td><td>350447</td><td>&quot;Irvington&quot;</td><td>&quot;NJ&quot;</td><td>7111.0</td><td>4214</td><td>&quot;Swipe Transact…</td><td>&quot;train&quot;</td><td>&quot;Visa&quot;</td><td>&quot;Debit&quot;</td><td>2023-06-01</td><td>&quot;YES&quot;</td><td>1</td><td>11592.0</td><td>1998-08-01</td><td>2015</td><td>59</td><td>68</td><td>1960</td><td>3</td><td>&quot;Female&quot;</td><td>&quot;5238 Park Stre…</td><td>&quot;Union City&quot;</td><td>&quot;NJ&quot;</td><td>7087</td><td>40.76</td><td>-74.03</td><td>16770.0</td><td>34190.0</td><td>39242.0</td><td>810</td><td>7</td><td>false</td><td>true</td><td>false</td><td>&quot;1969-4&quot;</td><td>2023</td><td>6</td><td>1998</td><td>8</td><td>17</td><td>8</td></tr><tr><td>5</td><td>1612</td><td>6</td><td>43.454</td><td>&quot;OK&quot;</td><td>0</td><td>231941</td><td>&quot;Warren&quot;</td><td>&quot;OH&quot;</td><td>44485.0</td><td>5499</td><td>&quot;Swipe Transact…</td><td>&quot;train&quot;</td><td>&quot;Mastercard&quot;</td><td>&quot;Debit&quot;</td><td>2001-06-01</td><td>&quot;NO&quot;</td><td>2</td><td>15007.0</td><td>2000-06-01</td><td>2013</td><td>81</td><td>65</td><td>1939</td><td>1</td><td>&quot;Female&quot;</td><td>&quot;374 Lexington …</td><td>&quot;Warren&quot;</td><td>&quot;OH&quot;</td><td>44485</td><td>41.23</td><td>-80.81</td><td>12406.0</td><td>11613.0</td><td>427.0</td><td>790</td><td>8</td><td>true</td><td>true</td><td>false</td><td>&quot;1612-6&quot;</td><td>2001</td><td>6</td><td>2000</td><td>6</td><td>13</td><td>-12</td></tr><tr><td>6</td><td>783</td><td>4</td><td>13.75</td><td>&quot;OK&quot;</td><td>0</td><td>212122</td><td>&quot;Camillus&quot;</td><td>&quot;NY&quot;</td><td>13031.0</td><td>8049</td><td>&quot;Swipe Transact…</td><td>&quot;train&quot;</td><td>&quot;Mastercard&quot;</td><td>&quot;Debit&quot;</td><td>2020-06-01</td><td>&quot;YES&quot;</td><td>1</td><td>23481.0</td><td>1996-06-01</td><td>2012</td><td>73</td><td>65</td><td>1946</td><td>9</td><td>&quot;Female&quot;</td><td>&quot;8258 Jefferson…</td><td>&quot;Camillus&quot;</td><td>&quot;NY&quot;</td><td>13031</td><td>43.03</td><td>-76.3</td><td>24172.0</td><td>48750.0</td><td>18724.0</td><td>709</td><td>8</td><td>true</td><td>true</td><td>false</td><td>&quot;783-4&quot;</td><td>2020</td><td>6</td><td>1996</td><td>6</td><td>16</td><td>8</td></tr><tr><td>7</td><td>1629</td><td>5</td><td>14.85</td><td>&quot;OK&quot;</td><td>0</td><td>78396</td><td>&quot;Edgerton&quot;</td><td>&quot;WI&quot;</td><td>53534.0</td><td>7230</td><td>&quot;Swipe Transact…</td><td>&quot;train&quot;</td><td>&quot;Mastercard&quot;</td><td>&quot;Debit (Prepaid…</td><td>2021-01-01</td><td>&quot;YES&quot;</td><td>2</td><td>95.0</td><td>1998-10-01</td><td>2012</td><td>50</td><td>69</td><td>1969</td><td>4</td><td>&quot;Female&quot;</td><td>&quot;8886 Little Cr…</td><td>&quot;Edgerton&quot;</td><td>&quot;WI&quot;</td><td>53534</td><td>42.83</td><td>-89.07</td><td>21348.0</td><td>43529.0</td><td>126175.0</td><td>797</td><td>6</td><td>true</td><td>true</td><td>false</td><td>&quot;1629-5&quot;</td><td>2021</td><td>1</td><td>1998</td><td>10</td><td>14</td><td>9</td></tr><tr><td>8</td><td>986</td><td>0</td><td>19.9</td><td>&quot;OK&quot;</td><td>0</td><td>405337</td><td>&quot;Rio de Janeiro…</td><td>&quot;Brazil&quot;</td><td>null</td><td>4121</td><td>&quot;Swipe Transact…</td><td>&quot;train&quot;</td><td>&quot;Mastercard&quot;</td><td>&quot;Debit (Prepaid…</td><td>2020-05-01</td><td>&quot;NO&quot;</td><td>2</td><td>22.0</td><td>2005-03-01</td><td>2011</td><td>75</td><td>67</td><td>1944</td><td>12</td><td>&quot;Male&quot;</td><td>&quot;2890 Eighth La…</td><td>&quot;Maywood&quot;</td><td>&quot;IL&quot;</td><td>60153</td><td>41.88</td><td>-87.84</td><td>15451.0</td><td>22158.0</td><td>19101.0</td><td>681</td><td>5</td><td>null</td><td>false</td><td>false</td><td>&quot;986-0&quot;</td><td>2020</td><td>5</td><td>2005</td><td>3</td><td>6</td><td>9</td></tr><tr><td>9</td><td>541</td><td>3</td><td>159.374</td><td>&quot;OK&quot;</td><td>0</td><td>194570</td><td>&quot;Orlando&quot;</td><td>&quot;FL&quot;</td><td>32839.0</td><td>4829</td><td>&quot;Chip Transacti…</td><td>&quot;train&quot;</td><td>&quot;Mastercard&quot;</td><td>&quot;Credit&quot;</td><td>2018-10-01</td><td>&quot;YES&quot;</td><td>2</td><td>10800.0</td><td>1999-12-01</td><td>2005</td><td>68</td><td>67</td><td>1951</td><td>7</td><td>&quot;Male&quot;</td><td>&quot;5828 Wessex Dr…</td><td>&quot;Orlando&quot;</td><td>&quot;FL&quot;</td><td>32818</td><td>28.5</td><td>-81.37</td><td>15849.0</td><td>43004.0</td><td>15304.0</td><td>761</td><td>6</td><td>false</td><td>true</td><td>false</td><td>&quot;541-3&quot;</td><td>2018</td><td>10</td><td>1999</td><td>12</td><td>6</td><td>13</td></tr><tr><td>10</td><td>541</td><td>3</td><td>163.69</td><td>&quot;OK&quot;</td><td>0</td><td>302673</td><td>&quot;Anaheim&quot;</td><td>&quot;CA&quot;</td><td>92801.0</td><td>5411</td><td>&quot;Swipe Transact…</td><td>&quot;train&quot;</td><td>&quot;Mastercard&quot;</td><td>&quot;Credit&quot;</td><td>2018-10-01</td><td>&quot;YES&quot;</td><td>2</td><td>10800.0</td><td>1999-12-01</td><td>2005</td><td>68</td><td>67</td><td>1951</td><td>7</td><td>&quot;Male&quot;</td><td>&quot;5828 Wessex Dr…</td><td>&quot;Orlando&quot;</td><td>&quot;FL&quot;</td><td>32818</td><td>28.5</td><td>-81.37</td><td>15849.0</td><td>43004.0</td><td>15304.0</td><td>761</td><td>6</td><td>false</td><td>false</td><td>false</td><td>&quot;541-3&quot;</td><td>2018</td><td>10</td><td>1999</td><td>12</td><td>6</td><td>13</td></tr><tr><td>11</td><td>783</td><td>4</td><td>34.638</td><td>&quot;OK&quot;</td><td>0</td><td>257539</td><td>&quot;ONLINE&quot;</td><td>null</td><td>null</td><td>4784</td><td>&quot;Online Transac…</td><td>&quot;train&quot;</td><td>&quot;Mastercard&quot;</td><td>&quot;Debit&quot;</td><td>2020-06-01</td><td>&quot;YES&quot;</td><td>1</td><td>23481.0</td><td>1996-06-01</td><td>2012</td><td>73</td><td>65</td><td>1946</td><td>9</td><td>&quot;Female&quot;</td><td>&quot;8258 Jefferson…</td><td>&quot;Camillus&quot;</td><td>&quot;NY&quot;</td><td>13031</td><td>43.03</td><td>-76.3</td><td>24172.0</td><td>48750.0</td><td>18724.0</td><td>709</td><td>8</td><td>null</td><td>null</td><td>true</td><td>&quot;783-4&quot;</td><td>2020</td><td>6</td><td>1996</td><td>6</td><td>16</td><td>8</td></tr><tr><td>&hellip;</td><td>&hellip;</td><td>&hellip;</td><td>&hellip;</td><td>&hellip;</td><td>&hellip;</td><td>&hellip;</td><td>&hellip;</td><td>&hellip;</td><td>&hellip;</td><td>&hellip;</td><td>&hellip;</td><td>&hellip;</td><td>&hellip;</td><td>&hellip;</td><td>&hellip;</td><td>&hellip;</td><td>&hellip;</td><td>&hellip;</td><td>&hellip;</td><td>&hellip;</td><td>&hellip;</td><td>&hellip;</td><td>&hellip;</td><td>&hellip;</td><td>&hellip;</td><td>&hellip;</td><td>&hellip;</td><td>&hellip;</td><td>&hellip;</td><td>&hellip;</td><td>&hellip;</td><td>&hellip;</td><td>&hellip;</td><td>&hellip;</td><td>&hellip;</td><td>&hellip;</td><td>&hellip;</td><td>&hellip;</td><td>&hellip;</td><td>&hellip;</td><td>&hellip;</td><td>&hellip;</td><td>&hellip;</td><td>&hellip;</td><td>&hellip;</td><td>&hellip;</td></tr><tr><td>929229</td><td>80</td><td>5</td><td>116.053</td><td>&quot;ERROR&quot;</td><td>null</td><td>274194</td><td>&quot;Livonia&quot;</td><td>&quot;MI&quot;</td><td>48152.0</td><td>4829</td><td>&quot;Chip Transacti…</td><td>&quot;test&quot;</td><td>&quot;Visa&quot;</td><td>&quot;Debit&quot;</td><td>2023-05-01</td><td>&quot;YES&quot;</td><td>1</td><td>22310.0</td><td>2009-09-01</td><td>2011</td><td>66</td><td>59</td><td>1954</td><td>1</td><td>&quot;Female&quot;</td><td>&quot;1105 Second Dr…</td><td>&quot;Dearborn&quot;</td><td>&quot;MI&quot;</td><td>48124</td><td>42.31</td><td>-83.21</td><td>24561.0</td><td>48690.0</td><td>36262.0</td><td>701</td><td>6</td><td>false</td><td>true</td><td>false</td><td>&quot;80-5&quot;</td><td>2023</td><td>5</td><td>2009</td><td>9</td><td>2</td><td>12</td></tr><tr><td>929230</td><td>1799</td><td>2</td><td>15.444</td><td>&quot;OK&quot;</td><td>null</td><td>176371</td><td>&quot;San Diego&quot;</td><td>&quot;CA&quot;</td><td>92139.0</td><td>5541</td><td>&quot;Chip Transacti…</td><td>&quot;test&quot;</td><td>&quot;Mastercard&quot;</td><td>&quot;Debit&quot;</td><td>2021-11-01</td><td>&quot;YES&quot;</td><td>2</td><td>22424.0</td><td>2020-02-01</td><td>2020</td><td>36</td><td>67</td><td>1983</td><td>12</td><td>&quot;Male&quot;</td><td>&quot;42720 East Dri…</td><td>&quot;Mukwonago&quot;</td><td>&quot;WI&quot;</td><td>53149</td><td>42.86</td><td>-88.33</td><td>28215.0</td><td>57532.0</td><td>61268.0</td><td>735</td><td>4</td><td>false</td><td>false</td><td>false</td><td>&quot;1799-2&quot;</td><td>2021</td><td>11</td><td>2020</td><td>2</td><td>0</td><td>1</td></tr><tr><td>929231</td><td>89</td><td>6</td><td>9.013</td><td>&quot;OK&quot;</td><td>null</td><td>402220</td><td>&quot;Lakewood&quot;</td><td>&quot;NJ&quot;</td><td>8701.0</td><td>7230</td><td>&quot;Chip Transacti…</td><td>&quot;test&quot;</td><td>&quot;Mastercard&quot;</td><td>&quot;Debit&quot;</td><td>2021-09-01</td><td>&quot;YES&quot;</td><td>1</td><td>6088.0</td><td>2001-11-01</td><td>2005</td><td>85</td><td>67</td><td>1934</td><td>10</td><td>&quot;Female&quot;</td><td>&quot;577 12th Lane&quot;</td><td>&quot;Lakewood&quot;</td><td>&quot;NJ&quot;</td><td>8701</td><td>40.09</td><td>-74.21</td><td>13006.0</td><td>9795.0</td><td>396.0</td><td>771</td><td>7</td><td>true</td><td>true</td><td>false</td><td>&quot;89-6&quot;</td><td>2021</td><td>9</td><td>2001</td><td>11</td><td>4</td><td>16</td></tr><tr><td>929232</td><td>89</td><td>0</td><td>27.224</td><td>&quot;OK&quot;</td><td>null</td><td>405906</td><td>&quot;ONLINE&quot;</td><td>null</td><td>null</td><td>4900</td><td>&quot;Online Transac…</td><td>&quot;test&quot;</td><td>&quot;Visa&quot;</td><td>&quot;Debit&quot;</td><td>2021-05-01</td><td>&quot;YES&quot;</td><td>1</td><td>12778.0</td><td>2005-05-01</td><td>2010</td><td>85</td><td>67</td><td>1934</td><td>10</td><td>&quot;Female&quot;</td><td>&quot;577 12th Lane&quot;</td><td>&quot;Lakewood&quot;</td><td>&quot;NJ&quot;</td><td>8701</td><td>40.09</td><td>-74.21</td><td>13006.0</td><td>9795.0</td><td>396.0</td><td>771</td><td>7</td><td>null</td><td>null</td><td>true</td><td>&quot;89-0&quot;</td><td>2021</td><td>5</td><td>2005</td><td>5</td><td>5</td><td>11</td></tr><tr><td>929233</td><td>89</td><td>6</td><td>33.983</td><td>&quot;OK&quot;</td><td>null</td><td>405906</td><td>&quot;ONLINE&quot;</td><td>null</td><td>null</td><td>4900</td><td>&quot;Online Transac…</td><td>&quot;test&quot;</td><td>&quot;Mastercard&quot;</td><td>&quot;Debit&quot;</td><td>2021-09-01</td><td>&quot;YES&quot;</td><td>1</td><td>6088.0</td><td>2001-11-01</td><td>2005</td><td>85</td><td>67</td><td>1934</td><td>10</td><td>&quot;Female&quot;</td><td>&quot;577 12th Lane&quot;</td><td>&quot;Lakewood&quot;</td><td>&quot;NJ&quot;</td><td>8701</td><td>40.09</td><td>-74.21</td><td>13006.0</td><td>9795.0</td><td>396.0</td><td>771</td><td>7</td><td>null</td><td>null</td><td>true</td><td>&quot;89-6&quot;</td><td>2021</td><td>9</td><td>2001</td><td>11</td><td>4</td><td>16</td></tr><tr><td>929234</td><td>927</td><td>1</td><td>89.0</td><td>&quot;OK&quot;</td><td>null</td><td>163982</td><td>&quot;Magnolia&quot;</td><td>&quot;TX&quot;</td><td>77354.0</td><td>5719</td><td>&quot;Chip Transacti…</td><td>&quot;test&quot;</td><td>&quot;Mastercard&quot;</td><td>&quot;Credit&quot;</td><td>2022-07-01</td><td>&quot;YES&quot;</td><td>2</td><td>22200.0</td><td>2011-03-01</td><td>2011</td><td>45</td><td>61</td><td>1975</td><td>1</td><td>&quot;Male&quot;</td><td>&quot;2270 Sixth Lan…</td><td>&quot;Humble&quot;</td><td>&quot;TX&quot;</td><td>77346</td><td>29.99</td><td>-95.26</td><td>32943.0</td><td>67170.0</td><td>114251.0</td><td>489</td><td>3</td><td>false</td><td>true</td><td>false</td><td>&quot;927-1&quot;</td><td>2022</td><td>7</td><td>2011</td><td>3</td><td>0</td><td>11</td></tr><tr><td>929235</td><td>39</td><td>0</td><td>98.104</td><td>&quot;OK&quot;</td><td>null</td><td>110602</td><td>&quot;Mansfield&quot;</td><td>&quot;MA&quot;</td><td>2048.0</td><td>5912</td><td>&quot;Swipe Transact…</td><td>&quot;test&quot;</td><td>&quot;Visa&quot;</td><td>&quot;Debit&quot;</td><td>2021-09-01</td><td>&quot;YES&quot;</td><td>1</td><td>17117.0</td><td>2007-05-01</td><td>2010</td><td>57</td><td>64</td><td>1962</td><td>12</td><td>&quot;Female&quot;</td><td>&quot;442 Burns Boul…</td><td>&quot;Mansfield&quot;</td><td>&quot;MA&quot;</td><td>2048</td><td>42.02</td><td>-71.21</td><td>37407.0</td><td>76274.0</td><td>102611.0</td><td>698</td><td>2</td><td>true</td><td>true</td><td>false</td><td>&quot;39-0&quot;</td><td>2021</td><td>9</td><td>2007</td><td>5</td><td>3</td><td>11</td></tr><tr><td>929236</td><td>1444</td><td>1</td><td>28.901</td><td>&quot;OK&quot;</td><td>null</td><td>226313</td><td>&quot;Kansas City&quot;</td><td>&quot;MO&quot;</td><td>64124.0</td><td>7538</td><td>&quot;Chip Transacti…</td><td>&quot;test&quot;</td><td>&quot;Mastercard&quot;</td><td>&quot;Debit&quot;</td><td>2020-02-01</td><td>&quot;YES&quot;</td><td>2</td><td>7090.0</td><td>2007-05-01</td><td>2017</td><td>49</td><td>66</td><td>1970</td><td>5</td><td>&quot;Male&quot;</td><td>&quot;4882 Mountain …</td><td>&quot;Kansas City&quot;</td><td>&quot;MO&quot;</td><td>64124</td><td>39.09</td><td>-94.58</td><td>12064.0</td><td>24598.0</td><td>23019.0</td><td>695</td><td>4</td><td>true</td><td>true</td><td>false</td><td>&quot;1444-1&quot;</td><td>2020</td><td>2</td><td>2007</td><td>5</td><td>10</td><td>3</td></tr><tr><td>929237</td><td>720</td><td>2</td><td>84.773</td><td>&quot;OK&quot;</td><td>null</td><td>132248</td><td>&quot;Philadelphia&quot;</td><td>&quot;PA&quot;</td><td>19133.0</td><td>5499</td><td>&quot;Swipe Transact…</td><td>&quot;test&quot;</td><td>&quot;Mastercard&quot;</td><td>&quot;Debit&quot;</td><td>2021-01-01</td><td>&quot;YES&quot;</td><td>2</td><td>10889.0</td><td>2008-04-01</td><td>2010</td><td>30</td><td>65</td><td>1989</td><td>4</td><td>&quot;Female&quot;</td><td>&quot;2328 Little Cr…</td><td>&quot;Philadelphia&quot;</td><td>&quot;PA&quot;</td><td>19133</td><td>39.95</td><td>-75.16</td><td>10016.0</td><td>20424.0</td><td>14743.0</td><td>770</td><td>3</td><td>true</td><td>true</td><td>false</td><td>&quot;720-2&quot;</td><td>2021</td><td>1</td><td>2008</td><td>4</td><td>2</td><td>11</td></tr><tr><td>929238</td><td>1773</td><td>1</td><td>111.48</td><td>&quot;OK&quot;</td><td>null</td><td>284589</td><td>&quot;Gause&quot;</td><td>&quot;TX&quot;</td><td>77857.0</td><td>5541</td><td>&quot;Swipe Transact…</td><td>&quot;test&quot;</td><td>&quot;Visa&quot;</td><td>&quot;Credit&quot;</td><td>2021-01-01</td><td>&quot;YES&quot;</td><td>2</td><td>6400.0</td><td>2009-05-01</td><td>2009</td><td>70</td><td>66</td><td>1949</td><td>7</td><td>&quot;Male&quot;</td><td>&quot;744 Lafayette …</td><td>&quot;Franklin&quot;</td><td>&quot;TX&quot;</td><td>77856</td><td>31.02</td><td>-96.48</td><td>17356.0</td><td>23082.0</td><td>23406.0</td><td>638</td><td>5</td><td>false</td><td>true</td><td>false</td><td>&quot;1773-1&quot;</td><td>2021</td><td>1</td><td>2009</td><td>5</td><td>0</td><td>12</td></tr><tr><td>929239</td><td>156</td><td>1</td><td>12.363</td><td>&quot;OK&quot;</td><td>null</td><td>342384</td><td>&quot;Myrtle Beach&quot;</td><td>&quot;SC&quot;</td><td>29579.0</td><td>5499</td><td>&quot;Chip Transacti…</td><td>&quot;test&quot;</td><td>&quot;Mastercard&quot;</td><td>&quot;Debit&quot;</td><td>2021-08-01</td><td>&quot;YES&quot;</td><td>1</td><td>23152.0</td><td>2013-01-01</td><td>2013</td><td>85</td><td>66</td><td>1934</td><td>7</td><td>&quot;Female&quot;</td><td>&quot;31 Hill Boulev…</td><td>&quot;Myrtle Beach&quot;</td><td>&quot;SC&quot;</td><td>29579</td><td>33.69</td><td>-78.89</td><td>19025.0</td><td>35270.0</td><td>1769.0</td><td>731</td><td>6</td><td>true</td><td>true</td><td>false</td><td>&quot;156-1&quot;</td><td>2021</td><td>8</td><td>2013</td><td>1</td><td>0</td><td>8</td></tr><tr><td>929240</td><td>1571</td><td>0</td><td>23.709</td><td>&quot;OK&quot;</td><td>null</td><td>260546</td><td>&quot;ONLINE&quot;</td><td>null</td><td>null</td><td>4900</td><td>&quot;Online Transac…</td><td>&quot;test&quot;</td><td>&quot;Amex&quot;</td><td>&quot;Credit&quot;</td><td>2020-11-01</td><td>&quot;YES&quot;</td><td>1</td><td>10200.0</td><td>2001-02-01</td><td>2011</td><td>39</td><td>69</td><td>1980</td><td>4</td><td>&quot;Female&quot;</td><td>&quot;251 Main Lane&quot;</td><td>&quot;Kokomo&quot;</td><td>&quot;IN&quot;</td><td>46901</td><td>40.47</td><td>-86.13</td><td>16794.0</td><td>34241.0</td><td>79551.0</td><td>784</td><td>2</td><td>null</td><td>null</td><td>true</td><td>&quot;1571-0&quot;</td><td>2020</td><td>11</td><td>2001</td><td>2</td><td>10</td><td>9</td></tr></tbody></table></div>"
      ],
      "text/plain": [
       "shape: (929_241, 47)\n",
       "┌────────┬─────────┬─────────┬────────┬───┬──────────────┬─────────────┬─────────────┬─────────────┐\n",
       "│ index  ┆ user_id ┆ card_id ┆ amount ┆ … ┆ acct_open_da ┆ acct_open_d ┆ YearsFromAc ┆ YearsFromPi │\n",
       "│ ---    ┆ ---     ┆ ---     ┆ ---    ┆   ┆ te_year      ┆ ate_month   ┆ ctOpenToPin ┆ nChangeToEx │\n",
       "│ i64    ┆ i64     ┆ i64     ┆ f64    ┆   ┆ ---          ┆ ---         ┆ Change      ┆ pires       │\n",
       "│        ┆         ┆         ┆        ┆   ┆ i32          ┆ u32         ┆ ---         ┆ ---         │\n",
       "│        ┆         ┆         ┆        ┆   ┆              ┆             ┆ i64         ┆ i64         │\n",
       "╞════════╪═════════╪═════════╪════════╪═══╪══════════════╪═════════════╪═════════════╪═════════════╡\n",
       "│ 0      ┆ 1721    ┆ 0       ┆ 2.623  ┆ … ┆ 1995         ┆ 9           ┆ 14          ┆ 12          │\n",
       "│ 1      ┆ 1629    ┆ 3       ┆ 6.4    ┆ … ┆ 1999         ┆ 6           ┆ 18          ┆ 5           │\n",
       "│ 2      ┆ 655     ┆ 3       ┆ 123.5  ┆ … ┆ 1998         ┆ 9           ┆ 11          ┆ 15          │\n",
       "│ 3      ┆ 492     ┆ 0       ┆ 51.287 ┆ … ┆ 1993         ┆ 4           ┆ 20          ┆ 9           │\n",
       "│ …      ┆ …       ┆ …       ┆ …      ┆ … ┆ …            ┆ …           ┆ …           ┆ …           │\n",
       "│ 929237 ┆ 720     ┆ 2       ┆ 84.773 ┆ … ┆ 2008         ┆ 4           ┆ 2           ┆ 11          │\n",
       "│ 929238 ┆ 1773    ┆ 1       ┆ 111.48 ┆ … ┆ 2009         ┆ 5           ┆ 0           ┆ 12          │\n",
       "│ 929239 ┆ 156     ┆ 1       ┆ 12.363 ┆ … ┆ 2013         ┆ 1           ┆ 0           ┆ 8           │\n",
       "│ 929240 ┆ 1571    ┆ 0       ┆ 23.709 ┆ … ┆ 2001         ┆ 2           ┆ 10          ┆ 9           │\n",
       "└────────┴─────────┴─────────┴────────┴───┴──────────────┴─────────────┴─────────────┴─────────────┘"
      ]
     },
     "execution_count": 19,
     "metadata": {},
     "output_type": "execute_result"
    }
   ],
   "source": [
    "all_data.select(\n",
    "    pl.all().\n",
    ")"
   ]
  },
  {
   "cell_type": "code",
   "execution_count": null,
   "metadata": {},
   "outputs": [],
   "source": []
  }
 ],
 "metadata": {
  "kernelspec": {
   "display_name": "Python 3",
   "language": "python",
   "name": "python3"
  },
  "language_info": {
   "codemirror_mode": {
    "name": "ipython",
    "version": 3
   },
   "file_extension": ".py",
   "mimetype": "text/x-python",
   "name": "python",
   "nbconvert_exporter": "python",
   "pygments_lexer": "ipython3",
   "version": "3.11.4"
  },
  "orig_nbformat": 4
 },
 "nbformat": 4,
 "nbformat_minor": 2
}
