{
 "cells": [
  {
   "cell_type": "code",
   "execution_count": 1,
   "metadata": {},
   "outputs": [],
   "source": [
    "# ===============================================================\n",
    "#  Library\n",
    "# ===============================================================\n",
    "import numpy as np\n",
    "import polars as pl\n",
    "\n",
    "from iterstrat.ml_stratifiers import MultilabelStratifiedKFold\n",
    "\n",
    "import warnings\n",
    "warnings.simplefilter(\"ignore\")\n",
    "\n",
    "import lightgbm as lgb\n",
    "\n",
    "import sys\n",
    "sys.path.append(\"G:/マイドライブ/signate_MUFJ2023/\")\n",
    "from MUFJ.utils import get_score, seed_everything\n",
    "from MUFJ.preprocessing import CustomOrdinalEncoder\n",
    "\n",
    "from math import comb\n",
    "import xgboost as xgb\n",
    "from tqdm.auto import tqdm\n",
    "from itertools import combinations\n",
    "\n",
    "import matplotlib.pyplot as plt\n",
    "import seaborn as sns"
   ]
  },
  {
   "cell_type": "code",
   "execution_count": 2,
   "metadata": {},
   "outputs": [],
   "source": [
    "# ===============================================================\n",
    "#  CFG\n",
    "# ===============================================================\n",
    "class CFG:\n",
    "    debug = False\n",
    "    seed = 42\n",
    "    n_splits = 5\n",
    "    num_cores = 4\n",
    "    data_dir = \"G:/マイドライブ/signate_MUFJ2023/data/\"\n",
    "    stopping_rounds = 100\n",
    "    save_dir = \"G:/マイドライブ/signate_MUFJ2023/exp/\"\n",
    "    filename = \"exp003\"\n",
    "    numerical_features = [\n",
    "        \"amount\", 'cards_issued', 'credit_limit','year_pin_last_changed','current_age','retirement_age','birth_year','birth_month', 'latitude', 'longitude',\n",
    "        'per_capita_income_zipcode', 'yearly_income_person', 'total_debt','fico_score', 'num_credit_cards', 'expires_month','expires_year','acct_open_date_month', \n",
    "        'acct_open_date_year', \"YearsFromAcctOpenToPinChange\",\n",
    "        ]\n",
    "    categorical_features = [\n",
    "        \"errors?\", 'merchant_id', 'merchant_city','merchant_state','zip',\"mcc\",'use_chip','card_brand','card_type', 'has_chip','gender', 'city', 'state', 'zipcode',\n",
    "        \"card_id\", \"user_id\", \"same_zipcode_as_zip\", \"city_is_ONLINE\",\n",
    "        ]\n",
    "    target_cols = [\"is_fraud?\"]"
   ]
  },
  {
   "cell_type": "code",
   "execution_count": 3,
   "metadata": {},
   "outputs": [],
   "source": [
    "# ===============================================================\n",
    "#  Utils\n",
    "# ===============================================================\n",
    "seed_everything(CFG.seed)"
   ]
  },
  {
   "cell_type": "code",
   "execution_count": 4,
   "metadata": {},
   "outputs": [],
   "source": [
    "# ===============================================================\n",
    "#  Data Loading\n",
    "# ===============================================================\n",
    "train = pl.read_csv(CFG.data_dir+\"train.csv\")\n",
    "test = pl.read_csv(CFG.data_dir+\"test.csv\")\n",
    "card = pl.read_csv(CFG.data_dir+\"card.csv\")\n",
    "user = pl.read_csv(CFG.data_dir+\"user.csv\")\n",
    "\n",
    "train = train.with_columns(\n",
    "    pl.lit(\"train\").alias(\"flag\")\n",
    ")\n",
    "test = test.with_columns(\n",
    "    [\n",
    "        pl.lit(None, dtype=pl.Int64).alias(\"is_fraud?\"),\n",
    "        pl.lit(\"test\").alias(\"flag\"),\n",
    "    ]\n",
    ")\n",
    "\n",
    "if CFG.debug:\n",
    "    train = train.sample(n=10000, seed=CFG.seed)\n",
    "    test = test.sample(n=1000, seed=CFG.seed)\n",
    "\n",
    "all_data = pl.concat([train, test], how=\"align\")\n",
    "all_data = all_data.join(\n",
    "    card, on=[\"user_id\", \"card_id\"], how=\"left\"\n",
    ")\n",
    "all_data = all_data.join(\n",
    "    user, on=\"user_id\", how=\"left\"\n",
    ")"
   ]
  },
  {
   "cell_type": "code",
   "execution_count": 5,
   "metadata": {},
   "outputs": [],
   "source": [
    "# ===============================================================\n",
    "#  Preprocessing\n",
    "# ===============================================================\n",
    "def preprocessing(all_data: pl.DataFrame) -> pl.DataFrame:\n",
    "    \n",
    "    all_data = all_data.with_columns(\n",
    "        [   \n",
    "            # str -> float\n",
    "            pl.col(\"amount\").apply(lambda x: x[1:]).cast(pl.Float64),\n",
    "            pl.col(\"total_debt\").apply(lambda x: x[1:]).cast(pl.Float64),\n",
    "            pl.col(\"credit_limit\").apply(lambda x: x[1:]).cast(pl.Float64),\n",
    "            pl.col(\"yearly_income_person\").apply(lambda x: x[1:]).cast(pl.Float64),\n",
    "            pl.col(\"per_capita_income_zipcode\").apply(lambda x: x[1:]).cast(pl.Float64),\n",
    "            \n",
    "            # str -> Datetime\n",
    "            pl.col(\"expires\").str.strptime(dtype=pl.Date, format=\"%m/%Y\"),\n",
    "            pl.col(\"acct_open_date\").str.strptime(dtype=pl.Date, format=\"%m/%Y\"),\n",
    "            \n",
    "            # bool\n",
    "            (pl.col(\"zip\") == pl.col(\"zipcode\")).alias(\"same_zipcode_as_zip\"),\n",
    "            (pl.col(\"state\") == pl.col(\"merchant_state\")).alias(\"same_state\"),\n",
    "            #(pl.col(\"city\") == pl.col(\"merchant_city\")).alias(\"same_city\"),\n",
    "            (pl.col(\"merchant_city\") == \"ONLINE\").alias(\"city_is_ONLINE\"),\n",
    "            #pl.when((pl.col(\"merchant_city\").is_null())&(pl.col(\"merchant_city\") != \"ONLINE\")) ## TODO: 上手くまとめられないかな\n",
    "            #.then(pl.lit(True))\n",
    "            #.otherwise(pl.lit(False))\n",
    "            #.alias(\"city_is_not_America\"),\n",
    "\n",
    "            # user_id + card_id\n",
    "            (pl.col(\"user_id\").cast(pl.Utf8) + \"-\" + pl.col(\"card_id\").cast(pl.Utf8)).alias(\"user_card_id\"),\n",
    "        ]\n",
    "    )\n",
    "    \n",
    "    \n",
    "    all_data = all_data.with_columns(\n",
    "        [\n",
    "            # Datetime -> Month, Year\n",
    "            pl.col(\"expires\").dt.year().suffix(\"_year\"),\n",
    "            pl.col(\"expires\").dt.month().suffix(\"_month\"),\n",
    "            pl.col(\"acct_open_date\").dt.year().suffix(\"_year\"),\n",
    "            pl.col(\"acct_open_date\").dt.month().suffix(\"_month\"),\n",
    "        \n",
    "            # feature_engineering\n",
    "            #(pl.col(\"amount\") - pl.col(\"credit_limit\")).cast(pl.Float64).alias(\"remaining_credit\"),\n",
    "        ]\n",
    "    )\n",
    "    \n",
    "    all_data = all_data.with_columns(\n",
    "        [\n",
    "            #(2023 - pl.col('year_pin_last_changed')).alias(\"YearsSincePinChange\"),\n",
    "            (pl.col(\"year_pin_last_changed\") - pl.col(\"acct_open_date_year\")).alias(\"YearsFromAcctOpenToPinChange\"),\n",
    "            #(pl.col(\"retirement_age\") - pl.col(\"current_age\")).alias(\"YearsUntilRetirement\"),\n",
    "            (pl.col(\"expires_year\") - pl.col(\"year_pin_last_changed\")).alias(\"YearsFromPinChangeToExpires\"),\n",
    "        ]\n",
    "    )\n",
    "    \n",
    "    \n",
    "    return all_data\n",
    "all_data = preprocessing(all_data)"
   ]
  },
  {
   "cell_type": "code",
   "execution_count": 6,
   "metadata": {},
   "outputs": [
    {
     "data": {
      "text/html": [
       "<div><style>\n",
       ".dataframe > thead > tr > th,\n",
       ".dataframe > tbody > tr > td {\n",
       "  text-align: right;\n",
       "}\n",
       "</style>\n",
       "<small>shape: (109, 2)</small><table border=\"1\" class=\"dataframe\"><thead><tr><th>mcc</th><th>amount</th></tr><tr><td>i64</td><td>f64</td></tr></thead><tbody><tr><td>7832</td><td>99.84344</td></tr><tr><td>5192</td><td>72.001414</td></tr><tr><td>5712</td><td>104.569021</td></tr><tr><td>4112</td><td>128.757472</td></tr><tr><td>4784</td><td>32.57881</td></tr><tr><td>3256</td><td>104.427245</td></tr><tr><td>5816</td><td>139.30034</td></tr><tr><td>3000</td><td>146.455369</td></tr><tr><td>3008</td><td>225.053538</td></tr><tr><td>3640</td><td>142.836434</td></tr><tr><td>5912</td><td>107.30112</td></tr><tr><td>3504</td><td>161.08938</td></tr><tr><td>&hellip;</td><td>&hellip;</td></tr><tr><td>5814</td><td>115.023909</td></tr><tr><td>4511</td><td>185.537727</td></tr><tr><td>3775</td><td>119.374295</td></tr><tr><td>1711</td><td>127.836875</td></tr><tr><td>5719</td><td>118.037619</td></tr><tr><td>3007</td><td>82.880438</td></tr><tr><td>4111</td><td>89.844707</td></tr><tr><td>5311</td><td>118.674701</td></tr><tr><td>8111</td><td>86.902571</td></tr><tr><td>5815</td><td>75.778933</td></tr><tr><td>3359</td><td>120.22796</td></tr><tr><td>5655</td><td>128.938016</td></tr></tbody></table></div>"
      ],
      "text/plain": [
       "shape: (109, 2)\n",
       "┌──────┬────────────┐\n",
       "│ mcc  ┆ amount     │\n",
       "│ ---  ┆ ---        │\n",
       "│ i64  ┆ f64        │\n",
       "╞══════╪════════════╡\n",
       "│ 7832 ┆ 99.84344   │\n",
       "│ 5192 ┆ 72.001414  │\n",
       "│ 5712 ┆ 104.569021 │\n",
       "│ 4112 ┆ 128.757472 │\n",
       "│ …    ┆ …          │\n",
       "│ 8111 ┆ 86.902571  │\n",
       "│ 5815 ┆ 75.778933  │\n",
       "│ 3359 ┆ 120.22796  │\n",
       "│ 5655 ┆ 128.938016 │\n",
       "└──────┴────────────┘"
      ]
     },
     "execution_count": 6,
     "metadata": {},
     "output_type": "execute_result"
    }
   ],
   "source": [
    "all_data[[\"amount\", \"mcc\", \"is_fraud?\"]].filter(\n",
    "    pl.col(\"is_fraud?\") == 1\n",
    ").groupby(\"mcc\").agg(\n",
    "    pl.col(\"amount\").mean()\n",
    ")"
   ]
  },
  {
   "cell_type": "code",
   "execution_count": 7,
   "metadata": {},
   "outputs": [
    {
     "data": {
      "text/plain": [
       "['index',\n",
       " 'user_id',\n",
       " 'card_id',\n",
       " 'amount',\n",
       " 'errors?',\n",
       " 'is_fraud?',\n",
       " 'merchant_id',\n",
       " 'merchant_city',\n",
       " 'merchant_state',\n",
       " 'zip',\n",
       " 'mcc',\n",
       " 'use_chip',\n",
       " 'flag',\n",
       " 'card_brand',\n",
       " 'card_type',\n",
       " 'expires',\n",
       " 'has_chip',\n",
       " 'cards_issued',\n",
       " 'credit_limit',\n",
       " 'acct_open_date',\n",
       " 'year_pin_last_changed',\n",
       " 'current_age',\n",
       " 'retirement_age',\n",
       " 'birth_year',\n",
       " 'birth_month',\n",
       " 'gender',\n",
       " 'address',\n",
       " 'city',\n",
       " 'state',\n",
       " 'zipcode',\n",
       " 'latitude',\n",
       " 'longitude',\n",
       " 'per_capita_income_zipcode',\n",
       " 'yearly_income_person',\n",
       " 'total_debt',\n",
       " 'fico_score',\n",
       " 'num_credit_cards',\n",
       " 'same_zipcode_as_zip',\n",
       " 'same_state',\n",
       " 'city_is_ONLINE',\n",
       " 'user_card_id',\n",
       " 'expires_year',\n",
       " 'expires_month',\n",
       " 'acct_open_date_year',\n",
       " 'acct_open_date_month',\n",
       " 'YearsFromAcctOpenToPinChange',\n",
       " 'YearsFromPinChangeToExpires']"
      ]
     },
     "execution_count": 7,
     "metadata": {},
     "output_type": "execute_result"
    }
   ],
   "source": [
    "all_data.columns"
   ]
  },
  {
   "cell_type": "code",
   "execution_count": 8,
   "metadata": {},
   "outputs": [
    {
     "data": {
      "text/html": [
       "<div><style>\n",
       ".dataframe > thead > tr > th,\n",
       ".dataframe > tbody > tr > td {\n",
       "  text-align: right;\n",
       "}\n",
       "</style>\n",
       "<small>shape: (97, 4)</small><table border=\"1\" class=\"dataframe\"><thead><tr><th>user_id</th><th>mean</th><th>counts</th><th>number</th></tr><tr><td>i64</td><td>f64</td><td>u32</td><td>f64</td></tr></thead><tbody><tr><td>80</td><td>0.077764</td><td>4115</td><td>320.0</td></tr><tr><td>1328</td><td>0.070259</td><td>7999</td><td>562.0</td></tr><tr><td>640</td><td>0.058388</td><td>4453</td><td>260.0</td></tr><tr><td>920</td><td>0.090909</td><td>4301</td><td>391.0</td></tr><tr><td>1592</td><td>0.045191</td><td>7922</td><td>358.0</td></tr><tr><td>1032</td><td>0.127886</td><td>6193</td><td>792.0</td></tr><tr><td>848</td><td>0.079856</td><td>4984</td><td>398.0</td></tr><tr><td>1400</td><td>0.1041</td><td>2805</td><td>292.0</td></tr><tr><td>720</td><td>0.094446</td><td>4627</td><td>437.0</td></tr><tr><td>1448</td><td>0.15776</td><td>3518</td><td>555.0</td></tr><tr><td>1776</td><td>0.082882</td><td>4621</td><td>383.0</td></tr><tr><td>560</td><td>0.065574</td><td>6649</td><td>436.0</td></tr><tr><td>&hellip;</td><td>&hellip;</td><td>&hellip;</td><td>&hellip;</td></tr><tr><td>1271</td><td>0.105357</td><td>5638</td><td>594.0</td></tr><tr><td>39</td><td>0.042847</td><td>2894</td><td>124.0</td></tr><tr><td>783</td><td>0.041632</td><td>9728</td><td>405.0</td></tr><tr><td>927</td><td>0.084867</td><td>2663</td><td>226.0</td></tr><tr><td>47</td><td>0.042901</td><td>3613</td><td>155.0</td></tr><tr><td>591</td><td>0.084906</td><td>4982</td><td>423.0</td></tr><tr><td>1799</td><td>0.05137</td><td>2336</td><td>120.0</td></tr><tr><td>1719</td><td>0.026846</td><td>4321</td><td>116.0</td></tr><tr><td>359</td><td>0.071322</td><td>4038</td><td>288.0</td></tr><tr><td>655</td><td>0.076274</td><td>9007</td><td>687.0</td></tr><tr><td>711</td><td>0.074264</td><td>5844</td><td>434.0</td></tr><tr><td>1783</td><td>0.059116</td><td>4821</td><td>285.0</td></tr></tbody></table></div>"
      ],
      "text/plain": [
       "shape: (97, 4)\n",
       "┌─────────┬──────────┬────────┬────────┐\n",
       "│ user_id ┆ mean     ┆ counts ┆ number │\n",
       "│ ---     ┆ ---      ┆ ---    ┆ ---    │\n",
       "│ i64     ┆ f64      ┆ u32    ┆ f64    │\n",
       "╞═════════╪══════════╪════════╪════════╡\n",
       "│ 80      ┆ 0.077764 ┆ 4115   ┆ 320.0  │\n",
       "│ 1328    ┆ 0.070259 ┆ 7999   ┆ 562.0  │\n",
       "│ 640     ┆ 0.058388 ┆ 4453   ┆ 260.0  │\n",
       "│ 920     ┆ 0.090909 ┆ 4301   ┆ 391.0  │\n",
       "│ …       ┆ …        ┆ …      ┆ …      │\n",
       "│ 359     ┆ 0.071322 ┆ 4038   ┆ 288.0  │\n",
       "│ 655     ┆ 0.076274 ┆ 9007   ┆ 687.0  │\n",
       "│ 711     ┆ 0.074264 ┆ 5844   ┆ 434.0  │\n",
       "│ 1783    ┆ 0.059116 ┆ 4821   ┆ 285.0  │\n",
       "└─────────┴──────────┴────────┴────────┘"
      ]
     },
     "execution_count": 8,
     "metadata": {},
     "output_type": "execute_result"
    }
   ],
   "source": [
    "df = all_data.filter(\n",
    "    pl.col(\"flag\") == \"train\"\n",
    ").groupby(\"user_id\").agg(\n",
    "    [\n",
    "        pl.col(\"is_fraud?\").mean().alias(\"mean\"),\n",
    "        pl.col(\"is_fraud?\").count().alias(\"counts\")\n",
    "    ]\n",
    ")\n",
    "df = df.with_columns(\n",
    "    [\n",
    "        (pl.col(\"mean\") * pl.col(\"counts\")).alias(\"number\")\n",
    "    ]\n",
    ")\n",
    "df"
   ]
  },
  {
   "cell_type": "code",
   "execution_count": 9,
   "metadata": {},
   "outputs": [
    {
     "data": {
      "text/html": [
       "<div><style>\n",
       ".dataframe > thead > tr > th,\n",
       ".dataframe > tbody > tr > td {\n",
       "  text-align: right;\n",
       "}\n",
       "</style>\n",
       "<small>shape: (93, 2)</small><table border=\"1\" class=\"dataframe\"><thead><tr><th>number</th><th>counts</th></tr><tr><td>f64</td><td>u32</td></tr></thead><tbody><tr><td>403.0</td><td>1</td></tr><tr><td>548.0</td><td>1</td></tr><tr><td>650.0</td><td>1</td></tr><tr><td>324.0</td><td>1</td></tr><tr><td>416.0</td><td>2</td></tr><tr><td>236.0</td><td>1</td></tr><tr><td>336.0</td><td>1</td></tr><tr><td>53.0</td><td>1</td></tr><tr><td>141.0</td><td>1</td></tr><tr><td>288.0</td><td>2</td></tr><tr><td>108.0</td><td>1</td></tr><tr><td>285.0</td><td>1</td></tr><tr><td>&hellip;</td><td>&hellip;</td></tr><tr><td>360.0</td><td>1</td></tr><tr><td>335.0</td><td>1</td></tr><tr><td>260.0</td><td>1</td></tr><tr><td>124.0</td><td>1</td></tr><tr><td>343.0</td><td>1</td></tr><tr><td>155.0</td><td>1</td></tr><tr><td>111.0</td><td>1</td></tr><tr><td>99.0</td><td>1</td></tr><tr><td>560.0</td><td>1</td></tr><tr><td>394.0</td><td>1</td></tr><tr><td>237.0</td><td>1</td></tr><tr><td>203.0</td><td>1</td></tr></tbody></table></div>"
      ],
      "text/plain": [
       "shape: (93, 2)\n",
       "┌────────┬────────┐\n",
       "│ number ┆ counts │\n",
       "│ ---    ┆ ---    │\n",
       "│ f64    ┆ u32    │\n",
       "╞════════╪════════╡\n",
       "│ 403.0  ┆ 1      │\n",
       "│ 548.0  ┆ 1      │\n",
       "│ 650.0  ┆ 1      │\n",
       "│ 324.0  ┆ 1      │\n",
       "│ …      ┆ …      │\n",
       "│ 560.0  ┆ 1      │\n",
       "│ 394.0  ┆ 1      │\n",
       "│ 237.0  ┆ 1      │\n",
       "│ 203.0  ┆ 1      │\n",
       "└────────┴────────┘"
      ]
     },
     "execution_count": 9,
     "metadata": {},
     "output_type": "execute_result"
    }
   ],
   "source": [
    "df[\"number\"].value_counts()"
   ]
  },
  {
   "cell_type": "code",
   "execution_count": 10,
   "metadata": {},
   "outputs": [
    {
     "data": {
      "text/html": [
       "<div><style>\n",
       ".dataframe > thead > tr > th,\n",
       ".dataframe > tbody > tr > td {\n",
       "  text-align: right;\n",
       "}\n",
       "</style>\n",
       "<small>shape: (97, 2)</small><table border=\"1\" class=\"dataframe\"><thead><tr><th>user_id</th><th>is_fraud?</th></tr><tr><td>i64</td><td>f64</td></tr></thead><tbody><tr><td>1086</td><td>0.105031</td></tr><tr><td>1789</td><td>0.051026</td></tr><tr><td>1947</td><td>0.05818</td></tr><tr><td>1385</td><td>0.065902</td></tr><tr><td>591</td><td>0.084906</td></tr><tr><td>1342</td><td>0.098217</td></tr><tr><td>1526</td><td>0.063611</td></tr><tr><td>371</td><td>0.025566</td></tr><tr><td>1117</td><td>0.062604</td></tr><tr><td>488</td><td>0.108056</td></tr><tr><td>359</td><td>0.071322</td></tr><tr><td>720</td><td>0.094446</td></tr><tr><td>&hellip;</td><td>&hellip;</td></tr><tr><td>1522</td><td>0.123001</td></tr><tr><td>169</td><td>0.049987</td></tr><tr><td>1528</td><td>0.062927</td></tr><tr><td>1597</td><td>0.040546</td></tr><tr><td>410</td><td>0.064226</td></tr><tr><td>1127</td><td>0.174297</td></tr><tr><td>154</td><td>0.074462</td></tr><tr><td>1097</td><td>0.083748</td></tr><tr><td>1986</td><td>0.102998</td></tr><tr><td>1091</td><td>0.071279</td></tr><tr><td>1799</td><td>0.05137</td></tr><tr><td>1115</td><td>0.033343</td></tr></tbody></table></div>"
      ],
      "text/plain": [
       "shape: (97, 2)\n",
       "┌─────────┬───────────┐\n",
       "│ user_id ┆ is_fraud? │\n",
       "│ ---     ┆ ---       │\n",
       "│ i64     ┆ f64       │\n",
       "╞═════════╪═══════════╡\n",
       "│ 1086    ┆ 0.105031  │\n",
       "│ 1789    ┆ 0.051026  │\n",
       "│ 1947    ┆ 0.05818   │\n",
       "│ 1385    ┆ 0.065902  │\n",
       "│ …       ┆ …         │\n",
       "│ 1986    ┆ 0.102998  │\n",
       "│ 1091    ┆ 0.071279  │\n",
       "│ 1799    ┆ 0.05137   │\n",
       "│ 1115    ┆ 0.033343  │\n",
       "└─────────┴───────────┘"
      ]
     },
     "execution_count": 10,
     "metadata": {},
     "output_type": "execute_result"
    }
   ],
   "source": [
    "all_data.filter(\n",
    "    pl.col(\"flag\") == \"train\"\n",
    ").groupby(\"user_id\").agg(\n",
    "    pl.col(\"is_fraud?\").mean(),\n",
    ")"
   ]
  },
  {
   "cell_type": "code",
   "execution_count": 11,
   "metadata": {},
   "outputs": [
    {
     "data": {
      "text/html": [
       "<div><style>\n",
       ".dataframe > thead > tr > th,\n",
       ".dataframe > tbody > tr > td {\n",
       "  text-align: right;\n",
       "}\n",
       "</style>\n",
       "<small>shape: (1, 2)</small><table border=\"1\" class=\"dataframe\"><thead><tr><th>current_age</th><th>counts</th></tr><tr><td>i64</td><td>u32</td></tr></thead><tbody><tr><td>57</td><td>2894</td></tr></tbody></table></div>"
      ],
      "text/plain": [
       "shape: (1, 2)\n",
       "┌─────────────┬────────┐\n",
       "│ current_age ┆ counts │\n",
       "│ ---         ┆ ---    │\n",
       "│ i64         ┆ u32    │\n",
       "╞═════════════╪════════╡\n",
       "│ 57          ┆ 2894   │\n",
       "└─────────────┴────────┘"
      ]
     },
     "execution_count": 11,
     "metadata": {},
     "output_type": "execute_result"
    }
   ],
   "source": [
    "all_data.filter(\n",
    "   ( pl.col(\"user_id\") == 39)&(pl.col(\"flag\") == \"train\")\n",
    ")[\"current_age\"].value_counts()"
   ]
  },
  {
   "cell_type": "code",
   "execution_count": 12,
   "metadata": {},
   "outputs": [
    {
     "data": {
      "text/html": [
       "<div><style>\n",
       ".dataframe > thead > tr > th,\n",
       ".dataframe > tbody > tr > td {\n",
       "  text-align: right;\n",
       "}\n",
       "</style>\n",
       "<small>shape: (1, 2)</small><table border=\"1\" class=\"dataframe\"><thead><tr><th>current_age</th><th>counts</th></tr><tr><td>i64</td><td>u32</td></tr></thead><tbody><tr><td>57</td><td>2861</td></tr></tbody></table></div>"
      ],
      "text/plain": [
       "shape: (1, 2)\n",
       "┌─────────────┬────────┐\n",
       "│ current_age ┆ counts │\n",
       "│ ---         ┆ ---    │\n",
       "│ i64         ┆ u32    │\n",
       "╞═════════════╪════════╡\n",
       "│ 57          ┆ 2861   │\n",
       "└─────────────┴────────┘"
      ]
     },
     "execution_count": 12,
     "metadata": {},
     "output_type": "execute_result"
    }
   ],
   "source": [
    "all_data.filter(\n",
    "   ( pl.col(\"user_id\") == 39)&(pl.col(\"flag\") == \"test\")\n",
    ")[\"current_age\"].value_counts()"
   ]
  },
  {
   "cell_type": "code",
   "execution_count": 13,
   "metadata": {},
   "outputs": [
    {
     "data": {
      "text/html": [
       "<div><style>\n",
       ".dataframe > thead > tr > th,\n",
       ".dataframe > tbody > tr > td {\n",
       "  text-align: right;\n",
       "}\n",
       "</style>\n",
       "<small>shape: (9, 48)</small><table border=\"1\" class=\"dataframe\"><thead><tr><th>describe</th><th>index</th><th>user_id</th><th>card_id</th><th>amount</th><th>errors?</th><th>is_fraud?</th><th>merchant_id</th><th>merchant_city</th><th>merchant_state</th><th>zip</th><th>mcc</th><th>use_chip</th><th>flag</th><th>card_brand</th><th>card_type</th><th>expires</th><th>has_chip</th><th>cards_issued</th><th>credit_limit</th><th>acct_open_date</th><th>year_pin_last_changed</th><th>current_age</th><th>retirement_age</th><th>birth_year</th><th>birth_month</th><th>gender</th><th>address</th><th>city</th><th>state</th><th>zipcode</th><th>latitude</th><th>longitude</th><th>per_capita_income_zipcode</th><th>yearly_income_person</th><th>total_debt</th><th>fico_score</th><th>num_credit_cards</th><th>same_zipcode_as_zip</th><th>same_state</th><th>city_is_ONLINE</th><th>user_card_id</th><th>expires_year</th><th>expires_month</th><th>acct_open_date_year</th><th>acct_open_date_month</th><th>YearsFromAcctOpenToPinChange</th><th>YearsFromPinChangeToExpires</th></tr><tr><td>str</td><td>f64</td><td>f64</td><td>f64</td><td>f64</td><td>str</td><td>f64</td><td>f64</td><td>str</td><td>str</td><td>f64</td><td>f64</td><td>str</td><td>str</td><td>str</td><td>str</td><td>str</td><td>str</td><td>f64</td><td>f64</td><td>str</td><td>f64</td><td>f64</td><td>f64</td><td>f64</td><td>f64</td><td>str</td><td>str</td><td>str</td><td>str</td><td>f64</td><td>f64</td><td>f64</td><td>f64</td><td>f64</td><td>f64</td><td>f64</td><td>f64</td><td>f64</td><td>f64</td><td>f64</td><td>str</td><td>f64</td><td>f64</td><td>f64</td><td>f64</td><td>f64</td><td>f64</td></tr></thead><tbody><tr><td>&quot;count&quot;</td><td>5755.0</td><td>5755.0</td><td>5755.0</td><td>5755.0</td><td>&quot;5755&quot;</td><td>5755.0</td><td>5755.0</td><td>&quot;5755&quot;</td><td>&quot;5755&quot;</td><td>5755.0</td><td>5755.0</td><td>&quot;5755&quot;</td><td>&quot;5755&quot;</td><td>&quot;5755&quot;</td><td>&quot;5755&quot;</td><td>&quot;5755&quot;</td><td>&quot;5755&quot;</td><td>5755.0</td><td>5755.0</td><td>&quot;5755&quot;</td><td>5755.0</td><td>5755.0</td><td>5755.0</td><td>5755.0</td><td>5755.0</td><td>&quot;5755&quot;</td><td>&quot;5755&quot;</td><td>&quot;5755&quot;</td><td>&quot;5755&quot;</td><td>5755.0</td><td>5755.0</td><td>5755.0</td><td>5755.0</td><td>5755.0</td><td>5755.0</td><td>5755.0</td><td>5755.0</td><td>5755.0</td><td>5755.0</td><td>5755.0</td><td>&quot;5755&quot;</td><td>5755.0</td><td>5755.0</td><td>5755.0</td><td>5755.0</td><td>5755.0</td><td>5755.0</td></tr><tr><td>&quot;null_count&quot;</td><td>0.0</td><td>0.0</td><td>0.0</td><td>0.0</td><td>&quot;0&quot;</td><td>2861.0</td><td>0.0</td><td>&quot;0&quot;</td><td>&quot;650&quot;</td><td>1030.0</td><td>0.0</td><td>&quot;0&quot;</td><td>&quot;0&quot;</td><td>&quot;0&quot;</td><td>&quot;0&quot;</td><td>&quot;0&quot;</td><td>&quot;0&quot;</td><td>0.0</td><td>0.0</td><td>&quot;0&quot;</td><td>0.0</td><td>0.0</td><td>0.0</td><td>0.0</td><td>0.0</td><td>&quot;0&quot;</td><td>&quot;0&quot;</td><td>&quot;0&quot;</td><td>&quot;0&quot;</td><td>0.0</td><td>0.0</td><td>0.0</td><td>0.0</td><td>0.0</td><td>0.0</td><td>0.0</td><td>0.0</td><td>1030.0</td><td>650.0</td><td>0.0</td><td>&quot;0&quot;</td><td>0.0</td><td>0.0</td><td>0.0</td><td>0.0</td><td>0.0</td><td>0.0</td></tr><tr><td>&quot;mean&quot;</td><td>509603.297133</td><td>39.0</td><td>0.27437</td><td>147.014868</td><td>null</td><td>0.042847</td><td>205976.209209</td><td>null</td><td>null</td><td>6357.121481</td><td>5697.40695</td><td>null</td><td>null</td><td>null</td><td>null</td><td>null</td><td>null</td><td>1.27437</td><td>13902.205387</td><td>null</td><td>2011.371851</td><td>57.0</td><td>64.0</td><td>1962.0</td><td>12.0</td><td>null</td><td>null</td><td>null</td><td>null</td><td>2048.0</td><td>42.02</td><td>-71.21</td><td>37407.0</td><td>76274.0</td><td>102611.0</td><td>698.0</td><td>2.0</td><td>0.724444</td><td>0.826641</td><td>0.112945</td><td>null</td><td>2021.82311</td><td>9.54874</td><td>2009.194961</td><td>6.371851</td><td>2.17689</td><td>10.45126</td></tr><tr><td>&quot;std&quot;</td><td>255616.073592</td><td>0.0</td><td>0.446235</td><td>163.145806</td><td>null</td><td>0.202548</td><td>110428.760604</td><td>null</td><td>null</td><td>16253.820087</td><td>1107.056551</td><td>null</td><td>null</td><td>null</td><td>null</td><td>null</td><td>null</td><td>0.446235</td><td>5228.536536</td><td>null</td><td>2.231175</td><td>0.0</td><td>0.0</td><td>0.0</td><td>0.0</td><td>null</td><td>null</td><td>null</td><td>null</td><td>0.0</td><td>3.6951e-13</td><td>7.2482e-13</td><td>0.0</td><td>0.0</td><td>0.0</td><td>0.0</td><td>0.0</td><td>0.446841</td><td>0.378595</td><td>0.316553</td><td>null</td><td>1.338705</td><td>0.89247</td><td>3.569881</td><td>2.231175</td><td>1.338705</td><td>0.89247</td></tr><tr><td>&quot;min&quot;</td><td>94062.0</td><td>39.0</td><td>0.0</td><td>0.072</td><td>&quot;ERROR&quot;</td><td>0.0</td><td>613.0</td><td>&quot;Alanson&quot;</td><td>&quot;CA&quot;</td><td>1030.0</td><td>3000.0</td><td>&quot;Chip Transacti…</td><td>&quot;test&quot;</td><td>&quot;Amex&quot;</td><td>&quot;Credit&quot;</td><td>&quot;2021-09-01&quot;</td><td>&quot;YES&quot;</td><td>1.0</td><td>5400.0</td><td>&quot;2007-05-01&quot;</td><td>2010.0</td><td>57.0</td><td>64.0</td><td>1962.0</td><td>12.0</td><td>&quot;Female&quot;</td><td>&quot;442 Burns Boul…</td><td>&quot;Mansfield&quot;</td><td>&quot;MA&quot;</td><td>2048.0</td><td>42.02</td><td>-71.21</td><td>37407.0</td><td>76274.0</td><td>102611.0</td><td>698.0</td><td>2.0</td><td>0.0</td><td>0.0</td><td>0.0</td><td>&quot;39-0&quot;</td><td>2021.0</td><td>9.0</td><td>2007.0</td><td>5.0</td><td>0.0</td><td>9.0</td></tr><tr><td>&quot;25%&quot;</td><td>279964.0</td><td>39.0</td><td>0.0</td><td>53.607</td><td>null</td><td>0.0</td><td>110602.0</td><td>null</td><td>null</td><td>2048.0</td><td>5300.0</td><td>null</td><td>null</td><td>null</td><td>null</td><td>null</td><td>null</td><td>1.0</td><td>5400.0</td><td>null</td><td>2010.0</td><td>57.0</td><td>64.0</td><td>1962.0</td><td>12.0</td><td>null</td><td>null</td><td>null</td><td>null</td><td>2048.0</td><td>42.02</td><td>-71.21</td><td>37407.0</td><td>76274.0</td><td>102611.0</td><td>698.0</td><td>2.0</td><td>null</td><td>null</td><td>null</td><td>null</td><td>2021.0</td><td>9.0</td><td>2007.0</td><td>5.0</td><td>0.0</td><td>9.0</td></tr><tr><td>&quot;50%&quot;</td><td>469411.0</td><td>39.0</td><td>0.0</td><td>90.686</td><td>null</td><td>0.0</td><td>202459.0</td><td>null</td><td>null</td><td>2048.0</td><td>5541.0</td><td>null</td><td>null</td><td>null</td><td>null</td><td>null</td><td>null</td><td>1.0</td><td>17117.0</td><td>null</td><td>2010.0</td><td>57.0</td><td>64.0</td><td>1962.0</td><td>12.0</td><td>null</td><td>null</td><td>null</td><td>null</td><td>2048.0</td><td>42.02</td><td>-71.21</td><td>37407.0</td><td>76274.0</td><td>102611.0</td><td>698.0</td><td>2.0</td><td>null</td><td>null</td><td>null</td><td>null</td><td>2021.0</td><td>9.0</td><td>2007.0</td><td>5.0</td><td>3.0</td><td>11.0</td></tr><tr><td>&quot;75%&quot;</td><td>737957.0</td><td>39.0</td><td>1.0</td><td>183.3</td><td>null</td><td>0.0</td><td>304208.0</td><td>null</td><td>null</td><td>2050.0</td><td>5912.0</td><td>null</td><td>null</td><td>null</td><td>null</td><td>null</td><td>null</td><td>2.0</td><td>17117.0</td><td>null</td><td>2015.0</td><td>57.0</td><td>64.0</td><td>1962.0</td><td>12.0</td><td>null</td><td>null</td><td>null</td><td>null</td><td>2048.0</td><td>42.02</td><td>-71.21</td><td>37407.0</td><td>76274.0</td><td>102611.0</td><td>698.0</td><td>2.0</td><td>null</td><td>null</td><td>null</td><td>null</td><td>2024.0</td><td>11.0</td><td>2015.0</td><td>10.0</td><td>3.0</td><td>11.0</td></tr><tr><td>&quot;max&quot;</td><td>929235.0</td><td>39.0</td><td>1.0</td><td>1794.999</td><td>&quot;OK&quot;</td><td>1.0</td><td>406662.0</td><td>&quot;Ypsilanti&quot;</td><td>&quot;WA&quot;</td><td>98422.0</td><td>9402.0</td><td>&quot;Swipe Transact…</td><td>&quot;train&quot;</td><td>&quot;Visa&quot;</td><td>&quot;Debit&quot;</td><td>&quot;2024-11-01&quot;</td><td>&quot;YES&quot;</td><td>2.0</td><td>17117.0</td><td>&quot;2015-10-01&quot;</td><td>2015.0</td><td>57.0</td><td>64.0</td><td>1962.0</td><td>12.0</td><td>&quot;Female&quot;</td><td>&quot;442 Burns Boul…</td><td>&quot;Mansfield&quot;</td><td>&quot;MA&quot;</td><td>2048.0</td><td>42.02</td><td>-71.21</td><td>37407.0</td><td>76274.0</td><td>102611.0</td><td>698.0</td><td>2.0</td><td>1.0</td><td>1.0</td><td>1.0</td><td>&quot;39-1&quot;</td><td>2024.0</td><td>11.0</td><td>2015.0</td><td>10.0</td><td>3.0</td><td>11.0</td></tr></tbody></table></div>"
      ],
      "text/plain": [
       "shape: (9, 48)\n",
       "┌────────────┬────────────┬─────────┬──────────┬───┬───────────┬───────────┬───────────┬───────────┐\n",
       "│ describe   ┆ index      ┆ user_id ┆ card_id  ┆ … ┆ acct_open ┆ acct_open ┆ YearsFrom ┆ YearsFrom │\n",
       "│ ---        ┆ ---        ┆ ---     ┆ ---      ┆   ┆ _date_yea ┆ _date_mon ┆ AcctOpenT ┆ PinChange │\n",
       "│ str        ┆ f64        ┆ f64     ┆ f64      ┆   ┆ r         ┆ th        ┆ oPinChang ┆ ToExpires │\n",
       "│            ┆            ┆         ┆          ┆   ┆ ---       ┆ ---       ┆ e         ┆ ---       │\n",
       "│            ┆            ┆         ┆          ┆   ┆ f64       ┆ f64       ┆ ---       ┆ f64       │\n",
       "│            ┆            ┆         ┆          ┆   ┆           ┆           ┆ f64       ┆           │\n",
       "╞════════════╪════════════╪═════════╪══════════╪═══╪═══════════╪═══════════╪═══════════╪═══════════╡\n",
       "│ count      ┆ 5755.0     ┆ 5755.0  ┆ 5755.0   ┆ … ┆ 5755.0    ┆ 5755.0    ┆ 5755.0    ┆ 5755.0    │\n",
       "│ null_count ┆ 0.0        ┆ 0.0     ┆ 0.0      ┆ … ┆ 0.0       ┆ 0.0       ┆ 0.0       ┆ 0.0       │\n",
       "│ mean       ┆ 509603.297 ┆ 39.0    ┆ 0.27437  ┆ … ┆ 2009.1949 ┆ 6.371851  ┆ 2.17689   ┆ 10.45126  │\n",
       "│            ┆ 133        ┆         ┆          ┆   ┆ 61        ┆           ┆           ┆           │\n",
       "│ std        ┆ 255616.073 ┆ 0.0     ┆ 0.446235 ┆ … ┆ 3.569881  ┆ 2.231175  ┆ 1.338705  ┆ 0.89247   │\n",
       "│            ┆ 592        ┆         ┆          ┆   ┆           ┆           ┆           ┆           │\n",
       "│ min        ┆ 94062.0    ┆ 39.0    ┆ 0.0      ┆ … ┆ 2007.0    ┆ 5.0       ┆ 0.0       ┆ 9.0       │\n",
       "│ 25%        ┆ 279964.0   ┆ 39.0    ┆ 0.0      ┆ … ┆ 2007.0    ┆ 5.0       ┆ 0.0       ┆ 9.0       │\n",
       "│ 50%        ┆ 469411.0   ┆ 39.0    ┆ 0.0      ┆ … ┆ 2007.0    ┆ 5.0       ┆ 3.0       ┆ 11.0      │\n",
       "│ 75%        ┆ 737957.0   ┆ 39.0    ┆ 1.0      ┆ … ┆ 2015.0    ┆ 10.0      ┆ 3.0       ┆ 11.0      │\n",
       "│ max        ┆ 929235.0   ┆ 39.0    ┆ 1.0      ┆ … ┆ 2015.0    ┆ 10.0      ┆ 3.0       ┆ 11.0      │\n",
       "└────────────┴────────────┴─────────┴──────────┴───┴───────────┴───────────┴───────────┴───────────┘"
      ]
     },
     "execution_count": 13,
     "metadata": {},
     "output_type": "execute_result"
    }
   ],
   "source": [
    "all_data.filter(\n",
    "    pl.col(\"user_id\") == 39\n",
    ").describe()"
   ]
  },
  {
   "cell_type": "code",
   "execution_count": 14,
   "metadata": {},
   "outputs": [
    {
     "data": {
      "text/html": [
       "<div><style>\n",
       ".dataframe > thead > tr > th,\n",
       ".dataframe > tbody > tr > td {\n",
       "  text-align: right;\n",
       "}\n",
       "</style>\n",
       "<small>shape: (2, 2)</small><table border=\"1\" class=\"dataframe\"><thead><tr><th>card_id</th><th>counts</th></tr><tr><td>i64</td><td>u32</td></tr></thead><tbody><tr><td>0</td><td>4176</td></tr><tr><td>1</td><td>1579</td></tr></tbody></table></div>"
      ],
      "text/plain": [
       "shape: (2, 2)\n",
       "┌─────────┬────────┐\n",
       "│ card_id ┆ counts │\n",
       "│ ---     ┆ ---    │\n",
       "│ i64     ┆ u32    │\n",
       "╞═════════╪════════╡\n",
       "│ 0       ┆ 4176   │\n",
       "│ 1       ┆ 1579   │\n",
       "└─────────┴────────┘"
      ]
     },
     "execution_count": 14,
     "metadata": {},
     "output_type": "execute_result"
    }
   ],
   "source": [
    "all_data.filter(\n",
    "    pl.col(\"user_id\") == 39\n",
    ")[\"card_id\"].value_counts()"
   ]
  },
  {
   "cell_type": "code",
   "execution_count": 15,
   "metadata": {},
   "outputs": [
    {
     "data": {
      "text/html": [
       "<div><style>\n",
       ".dataframe > thead > tr > th,\n",
       ".dataframe > tbody > tr > td {\n",
       "  text-align: right;\n",
       "}\n",
       "</style>\n",
       "<small>shape: (3, 2)</small><table border=\"1\" class=\"dataframe\"><thead><tr><th>is_fraud?</th><th>counts</th></tr><tr><td>i64</td><td>u32</td></tr></thead><tbody><tr><td>0</td><td>2770</td></tr><tr><td>1</td><td>124</td></tr><tr><td>null</td><td>2861</td></tr></tbody></table></div>"
      ],
      "text/plain": [
       "shape: (3, 2)\n",
       "┌───────────┬────────┐\n",
       "│ is_fraud? ┆ counts │\n",
       "│ ---       ┆ ---    │\n",
       "│ i64       ┆ u32    │\n",
       "╞═══════════╪════════╡\n",
       "│ 0         ┆ 2770   │\n",
       "│ 1         ┆ 124    │\n",
       "│ null      ┆ 2861   │\n",
       "└───────────┴────────┘"
      ]
     },
     "execution_count": 15,
     "metadata": {},
     "output_type": "execute_result"
    }
   ],
   "source": [
    "all_data.filter(\n",
    "    pl.col(\"user_id\") == 39\n",
    ")[\"is_fraud?\"].value_counts()"
   ]
  },
  {
   "cell_type": "code",
   "execution_count": 16,
   "metadata": {},
   "outputs": [
    {
     "data": {
      "text/plain": [
       "['user_id',\n",
       " 'has_chip',\n",
       " 'current_age',\n",
       " 'retirement_age',\n",
       " 'birth_year',\n",
       " 'birth_month',\n",
       " 'gender',\n",
       " 'address',\n",
       " 'city',\n",
       " 'state',\n",
       " 'zipcode',\n",
       " 'latitude',\n",
       " 'longitude',\n",
       " 'per_capita_income_zipcode',\n",
       " 'yearly_income_person',\n",
       " 'total_debt',\n",
       " 'fico_score',\n",
       " 'num_credit_cards']"
      ]
     },
     "execution_count": 16,
     "metadata": {},
     "output_type": "execute_result"
    }
   ],
   "source": [
    "[col for col in all_data.columns if len(all_data.filter(pl.col(\"user_id\") == 39)[col].unique()) == 1]"
   ]
  },
  {
   "cell_type": "code",
   "execution_count": 17,
   "metadata": {},
   "outputs": [
    {
     "data": {
      "text/plain": [
       "['index',\n",
       " 'card_id',\n",
       " 'amount',\n",
       " 'errors?',\n",
       " 'is_fraud?',\n",
       " 'merchant_id',\n",
       " 'merchant_city',\n",
       " 'merchant_state',\n",
       " 'zip',\n",
       " 'mcc',\n",
       " 'use_chip',\n",
       " 'flag',\n",
       " 'card_brand',\n",
       " 'card_type',\n",
       " 'expires',\n",
       " 'cards_issued',\n",
       " 'credit_limit',\n",
       " 'acct_open_date',\n",
       " 'year_pin_last_changed',\n",
       " 'same_zipcode_as_zip',\n",
       " 'same_state',\n",
       " 'city_is_ONLINE',\n",
       " 'user_card_id',\n",
       " 'expires_year',\n",
       " 'expires_month',\n",
       " 'acct_open_date_year',\n",
       " 'acct_open_date_month',\n",
       " 'YearsFromAcctOpenToPinChange',\n",
       " 'YearsFromPinChangeToExpires']"
      ]
     },
     "execution_count": 17,
     "metadata": {},
     "output_type": "execute_result"
    }
   ],
   "source": [
    "[col for col in all_data.columns if len(all_data.filter(pl.col(\"user_id\") == 39)[col].unique()) != 1]"
   ]
  },
  {
   "cell_type": "code",
   "execution_count": null,
   "metadata": {},
   "outputs": [],
   "source": []
  },
  {
   "cell_type": "code",
   "execution_count": 18,
   "metadata": {},
   "outputs": [
    {
     "data": {
      "text/html": [
       "<div><style>\n",
       ".dataframe > thead > tr > th,\n",
       ".dataframe > tbody > tr > td {\n",
       "  text-align: right;\n",
       "}\n",
       "</style>\n",
       "<small>shape: (169, 3)</small><table border=\"1\" class=\"dataframe\"><thead><tr><th>user_id</th><th>cards_issued</th><th>is_fraud?</th></tr><tr><td>i64</td><td>i64</td><td>f64</td></tr></thead><tbody><tr><td>1149</td><td>1</td><td>0.088686</td></tr><tr><td>306</td><td>2</td><td>0.044953</td></tr><tr><td>783</td><td>2</td><td>0.05289</td></tr><tr><td>711</td><td>2</td><td>0.020508</td></tr><tr><td>1947</td><td>1</td><td>0.090841</td></tr><tr><td>1986</td><td>2</td><td>0.102998</td></tr><tr><td>821</td><td>1</td><td>0.050053</td></tr><tr><td>1032</td><td>1</td><td>0.12013</td></tr><tr><td>1097</td><td>2</td><td>0.083748</td></tr><tr><td>1400</td><td>1</td><td>0.1041</td></tr><tr><td>39</td><td>1</td><td>0.017703</td></tr><tr><td>1741</td><td>1</td><td>0.032487</td></tr><tr><td>&hellip;</td><td>&hellip;</td><td>&hellip;</td></tr><tr><td>1783</td><td>2</td><td>0.008475</td></tr><tr><td>1389</td><td>1</td><td>0.050549</td></tr><tr><td>920</td><td>2</td><td>0.090909</td></tr><tr><td>1032</td><td>2</td><td>0.132029</td></tr><tr><td>306</td><td>1</td><td>0.066667</td></tr><tr><td>1719</td><td>2</td><td>0.014243</td></tr><tr><td>1773</td><td>2</td><td>0.028787</td></tr><tr><td>1773</td><td>1</td><td>0.089995</td></tr><tr><td>1799</td><td>1</td><td>0.0</td></tr><tr><td>1572</td><td>1</td><td>0.061876</td></tr><tr><td>1572</td><td>2</td><td>0.015398</td></tr><tr><td>1068</td><td>2</td><td>0.104918</td></tr></tbody></table></div>"
      ],
      "text/plain": [
       "shape: (169, 3)\n",
       "┌─────────┬──────────────┬───────────┐\n",
       "│ user_id ┆ cards_issued ┆ is_fraud? │\n",
       "│ ---     ┆ ---          ┆ ---       │\n",
       "│ i64     ┆ i64          ┆ f64       │\n",
       "╞═════════╪══════════════╪═══════════╡\n",
       "│ 1149    ┆ 1            ┆ 0.088686  │\n",
       "│ 306     ┆ 2            ┆ 0.044953  │\n",
       "│ 783     ┆ 2            ┆ 0.05289   │\n",
       "│ 711     ┆ 2            ┆ 0.020508  │\n",
       "│ …       ┆ …            ┆ …         │\n",
       "│ 1799    ┆ 1            ┆ 0.0       │\n",
       "│ 1572    ┆ 1            ┆ 0.061876  │\n",
       "│ 1572    ┆ 2            ┆ 0.015398  │\n",
       "│ 1068    ┆ 2            ┆ 0.104918  │\n",
       "└─────────┴──────────────┴───────────┘"
      ]
     },
     "execution_count": 18,
     "metadata": {},
     "output_type": "execute_result"
    }
   ],
   "source": [
    "all_data.groupby([\"user_id\", \"cards_issued\"]).agg(\n",
    "    pl.col(\"is_fraud?\").mean()\n",
    ")"
   ]
  },
  {
   "cell_type": "code",
   "execution_count": null,
   "metadata": {},
   "outputs": [],
   "source": []
  },
  {
   "cell_type": "code",
   "execution_count": 19,
   "metadata": {},
   "outputs": [
    {
     "data": {
      "text/html": [
       "<div><style>\n",
       ".dataframe > thead > tr > th,\n",
       ".dataframe > tbody > tr > td {\n",
       "  text-align: right;\n",
       "}\n",
       "</style>\n",
       "<small>shape: (929_241, 47)</small><table border=\"1\" class=\"dataframe\"><thead><tr><th>index</th><th>user_id</th><th>card_id</th><th>amount</th><th>errors?</th><th>is_fraud?</th><th>merchant_id</th><th>merchant_city</th><th>merchant_state</th><th>zip</th><th>mcc</th><th>use_chip</th><th>flag</th><th>card_brand</th><th>card_type</th><th>expires</th><th>has_chip</th><th>cards_issued</th><th>credit_limit</th><th>acct_open_date</th><th>year_pin_last_changed</th><th>current_age</th><th>retirement_age</th><th>birth_year</th><th>birth_month</th><th>gender</th><th>address</th><th>city</th><th>state</th><th>zipcode</th><th>latitude</th><th>longitude</th><th>per_capita_income_zipcode</th><th>yearly_income_person</th><th>total_debt</th><th>fico_score</th><th>num_credit_cards</th><th>same_zipcode_as_zip</th><th>same_state</th><th>city_is_ONLINE</th><th>user_card_id</th><th>expires_year</th><th>expires_month</th><th>acct_open_date_year</th><th>acct_open_date_month</th><th>YearsFromAcctOpenToPinChange</th><th>YearsFromPinChangeToExpires</th></tr><tr><td>u32</td><td>u32</td><td>u32</td><td>u32</td><td>u32</td><td>u32</td><td>u32</td><td>u32</td><td>u32</td><td>u32</td><td>u32</td><td>u32</td><td>u32</td><td>u32</td><td>u32</td><td>u32</td><td>u32</td><td>u32</td><td>u32</td><td>u32</td><td>u32</td><td>u32</td><td>u32</td><td>u32</td><td>u32</td><td>u32</td><td>u32</td><td>u32</td><td>u32</td><td>u32</td><td>u32</td><td>u32</td><td>u32</td><td>u32</td><td>u32</td><td>u32</td><td>u32</td><td>u32</td><td>u32</td><td>u32</td><td>u32</td><td>u32</td><td>u32</td><td>u32</td><td>u32</td><td>u32</td><td>u32</td></tr></thead><tbody><tr><td>929241</td><td>97</td><td>9</td><td>185744</td><td>2</td><td>3</td><td>31533</td><td>4970</td><td>129</td><td>9117</td><td>109</td><td>3</td><td>2</td><td>4</td><td>3</td><td>119</td><td>2</td><td>3</td><td>350</td><td>182</td><td>18</td><td>46</td><td>18</td><td>46</td><td>12</td><td>2</td><td>97</td><td>94</td><td>37</td><td>96</td><td>92</td><td>92</td><td>94</td><td>97</td><td>94</td><td>76</td><td>9</td><td>3</td><td>3</td><td>2</td><td>413</td><td>21</td><td>12</td><td>28</td><td>12</td><td>20</td><td>29</td></tr><tr><td>929241</td><td>97</td><td>9</td><td>185744</td><td>2</td><td>3</td><td>31533</td><td>4970</td><td>129</td><td>9117</td><td>109</td><td>3</td><td>2</td><td>4</td><td>3</td><td>119</td><td>2</td><td>3</td><td>350</td><td>182</td><td>18</td><td>46</td><td>18</td><td>46</td><td>12</td><td>2</td><td>97</td><td>94</td><td>37</td><td>96</td><td>92</td><td>92</td><td>94</td><td>97</td><td>94</td><td>76</td><td>9</td><td>3</td><td>3</td><td>2</td><td>413</td><td>21</td><td>12</td><td>28</td><td>12</td><td>20</td><td>29</td></tr><tr><td>929241</td><td>97</td><td>9</td><td>185744</td><td>2</td><td>3</td><td>31533</td><td>4970</td><td>129</td><td>9117</td><td>109</td><td>3</td><td>2</td><td>4</td><td>3</td><td>119</td><td>2</td><td>3</td><td>350</td><td>182</td><td>18</td><td>46</td><td>18</td><td>46</td><td>12</td><td>2</td><td>97</td><td>94</td><td>37</td><td>96</td><td>92</td><td>92</td><td>94</td><td>97</td><td>94</td><td>76</td><td>9</td><td>3</td><td>3</td><td>2</td><td>413</td><td>21</td><td>12</td><td>28</td><td>12</td><td>20</td><td>29</td></tr><tr><td>929241</td><td>97</td><td>9</td><td>185744</td><td>2</td><td>3</td><td>31533</td><td>4970</td><td>129</td><td>9117</td><td>109</td><td>3</td><td>2</td><td>4</td><td>3</td><td>119</td><td>2</td><td>3</td><td>350</td><td>182</td><td>18</td><td>46</td><td>18</td><td>46</td><td>12</td><td>2</td><td>97</td><td>94</td><td>37</td><td>96</td><td>92</td><td>92</td><td>94</td><td>97</td><td>94</td><td>76</td><td>9</td><td>3</td><td>3</td><td>2</td><td>413</td><td>21</td><td>12</td><td>28</td><td>12</td><td>20</td><td>29</td></tr><tr><td>929241</td><td>97</td><td>9</td><td>185744</td><td>2</td><td>3</td><td>31533</td><td>4970</td><td>129</td><td>9117</td><td>109</td><td>3</td><td>2</td><td>4</td><td>3</td><td>119</td><td>2</td><td>3</td><td>350</td><td>182</td><td>18</td><td>46</td><td>18</td><td>46</td><td>12</td><td>2</td><td>97</td><td>94</td><td>37</td><td>96</td><td>92</td><td>92</td><td>94</td><td>97</td><td>94</td><td>76</td><td>9</td><td>3</td><td>3</td><td>2</td><td>413</td><td>21</td><td>12</td><td>28</td><td>12</td><td>20</td><td>29</td></tr><tr><td>929241</td><td>97</td><td>9</td><td>185744</td><td>2</td><td>3</td><td>31533</td><td>4970</td><td>129</td><td>9117</td><td>109</td><td>3</td><td>2</td><td>4</td><td>3</td><td>119</td><td>2</td><td>3</td><td>350</td><td>182</td><td>18</td><td>46</td><td>18</td><td>46</td><td>12</td><td>2</td><td>97</td><td>94</td><td>37</td><td>96</td><td>92</td><td>92</td><td>94</td><td>97</td><td>94</td><td>76</td><td>9</td><td>3</td><td>3</td><td>2</td><td>413</td><td>21</td><td>12</td><td>28</td><td>12</td><td>20</td><td>29</td></tr><tr><td>929241</td><td>97</td><td>9</td><td>185744</td><td>2</td><td>3</td><td>31533</td><td>4970</td><td>129</td><td>9117</td><td>109</td><td>3</td><td>2</td><td>4</td><td>3</td><td>119</td><td>2</td><td>3</td><td>350</td><td>182</td><td>18</td><td>46</td><td>18</td><td>46</td><td>12</td><td>2</td><td>97</td><td>94</td><td>37</td><td>96</td><td>92</td><td>92</td><td>94</td><td>97</td><td>94</td><td>76</td><td>9</td><td>3</td><td>3</td><td>2</td><td>413</td><td>21</td><td>12</td><td>28</td><td>12</td><td>20</td><td>29</td></tr><tr><td>929241</td><td>97</td><td>9</td><td>185744</td><td>2</td><td>3</td><td>31533</td><td>4970</td><td>129</td><td>9117</td><td>109</td><td>3</td><td>2</td><td>4</td><td>3</td><td>119</td><td>2</td><td>3</td><td>350</td><td>182</td><td>18</td><td>46</td><td>18</td><td>46</td><td>12</td><td>2</td><td>97</td><td>94</td><td>37</td><td>96</td><td>92</td><td>92</td><td>94</td><td>97</td><td>94</td><td>76</td><td>9</td><td>3</td><td>3</td><td>2</td><td>413</td><td>21</td><td>12</td><td>28</td><td>12</td><td>20</td><td>29</td></tr><tr><td>929241</td><td>97</td><td>9</td><td>185744</td><td>2</td><td>3</td><td>31533</td><td>4970</td><td>129</td><td>9117</td><td>109</td><td>3</td><td>2</td><td>4</td><td>3</td><td>119</td><td>2</td><td>3</td><td>350</td><td>182</td><td>18</td><td>46</td><td>18</td><td>46</td><td>12</td><td>2</td><td>97</td><td>94</td><td>37</td><td>96</td><td>92</td><td>92</td><td>94</td><td>97</td><td>94</td><td>76</td><td>9</td><td>3</td><td>3</td><td>2</td><td>413</td><td>21</td><td>12</td><td>28</td><td>12</td><td>20</td><td>29</td></tr><tr><td>929241</td><td>97</td><td>9</td><td>185744</td><td>2</td><td>3</td><td>31533</td><td>4970</td><td>129</td><td>9117</td><td>109</td><td>3</td><td>2</td><td>4</td><td>3</td><td>119</td><td>2</td><td>3</td><td>350</td><td>182</td><td>18</td><td>46</td><td>18</td><td>46</td><td>12</td><td>2</td><td>97</td><td>94</td><td>37</td><td>96</td><td>92</td><td>92</td><td>94</td><td>97</td><td>94</td><td>76</td><td>9</td><td>3</td><td>3</td><td>2</td><td>413</td><td>21</td><td>12</td><td>28</td><td>12</td><td>20</td><td>29</td></tr><tr><td>929241</td><td>97</td><td>9</td><td>185744</td><td>2</td><td>3</td><td>31533</td><td>4970</td><td>129</td><td>9117</td><td>109</td><td>3</td><td>2</td><td>4</td><td>3</td><td>119</td><td>2</td><td>3</td><td>350</td><td>182</td><td>18</td><td>46</td><td>18</td><td>46</td><td>12</td><td>2</td><td>97</td><td>94</td><td>37</td><td>96</td><td>92</td><td>92</td><td>94</td><td>97</td><td>94</td><td>76</td><td>9</td><td>3</td><td>3</td><td>2</td><td>413</td><td>21</td><td>12</td><td>28</td><td>12</td><td>20</td><td>29</td></tr><tr><td>929241</td><td>97</td><td>9</td><td>185744</td><td>2</td><td>3</td><td>31533</td><td>4970</td><td>129</td><td>9117</td><td>109</td><td>3</td><td>2</td><td>4</td><td>3</td><td>119</td><td>2</td><td>3</td><td>350</td><td>182</td><td>18</td><td>46</td><td>18</td><td>46</td><td>12</td><td>2</td><td>97</td><td>94</td><td>37</td><td>96</td><td>92</td><td>92</td><td>94</td><td>97</td><td>94</td><td>76</td><td>9</td><td>3</td><td>3</td><td>2</td><td>413</td><td>21</td><td>12</td><td>28</td><td>12</td><td>20</td><td>29</td></tr><tr><td>&hellip;</td><td>&hellip;</td><td>&hellip;</td><td>&hellip;</td><td>&hellip;</td><td>&hellip;</td><td>&hellip;</td><td>&hellip;</td><td>&hellip;</td><td>&hellip;</td><td>&hellip;</td><td>&hellip;</td><td>&hellip;</td><td>&hellip;</td><td>&hellip;</td><td>&hellip;</td><td>&hellip;</td><td>&hellip;</td><td>&hellip;</td><td>&hellip;</td><td>&hellip;</td><td>&hellip;</td><td>&hellip;</td><td>&hellip;</td><td>&hellip;</td><td>&hellip;</td><td>&hellip;</td><td>&hellip;</td><td>&hellip;</td><td>&hellip;</td><td>&hellip;</td><td>&hellip;</td><td>&hellip;</td><td>&hellip;</td><td>&hellip;</td><td>&hellip;</td><td>&hellip;</td><td>&hellip;</td><td>&hellip;</td><td>&hellip;</td><td>&hellip;</td><td>&hellip;</td><td>&hellip;</td><td>&hellip;</td><td>&hellip;</td><td>&hellip;</td><td>&hellip;</td></tr><tr><td>929241</td><td>97</td><td>9</td><td>185744</td><td>2</td><td>3</td><td>31533</td><td>4970</td><td>129</td><td>9117</td><td>109</td><td>3</td><td>2</td><td>4</td><td>3</td><td>119</td><td>2</td><td>3</td><td>350</td><td>182</td><td>18</td><td>46</td><td>18</td><td>46</td><td>12</td><td>2</td><td>97</td><td>94</td><td>37</td><td>96</td><td>92</td><td>92</td><td>94</td><td>97</td><td>94</td><td>76</td><td>9</td><td>3</td><td>3</td><td>2</td><td>413</td><td>21</td><td>12</td><td>28</td><td>12</td><td>20</td><td>29</td></tr><tr><td>929241</td><td>97</td><td>9</td><td>185744</td><td>2</td><td>3</td><td>31533</td><td>4970</td><td>129</td><td>9117</td><td>109</td><td>3</td><td>2</td><td>4</td><td>3</td><td>119</td><td>2</td><td>3</td><td>350</td><td>182</td><td>18</td><td>46</td><td>18</td><td>46</td><td>12</td><td>2</td><td>97</td><td>94</td><td>37</td><td>96</td><td>92</td><td>92</td><td>94</td><td>97</td><td>94</td><td>76</td><td>9</td><td>3</td><td>3</td><td>2</td><td>413</td><td>21</td><td>12</td><td>28</td><td>12</td><td>20</td><td>29</td></tr><tr><td>929241</td><td>97</td><td>9</td><td>185744</td><td>2</td><td>3</td><td>31533</td><td>4970</td><td>129</td><td>9117</td><td>109</td><td>3</td><td>2</td><td>4</td><td>3</td><td>119</td><td>2</td><td>3</td><td>350</td><td>182</td><td>18</td><td>46</td><td>18</td><td>46</td><td>12</td><td>2</td><td>97</td><td>94</td><td>37</td><td>96</td><td>92</td><td>92</td><td>94</td><td>97</td><td>94</td><td>76</td><td>9</td><td>3</td><td>3</td><td>2</td><td>413</td><td>21</td><td>12</td><td>28</td><td>12</td><td>20</td><td>29</td></tr><tr><td>929241</td><td>97</td><td>9</td><td>185744</td><td>2</td><td>3</td><td>31533</td><td>4970</td><td>129</td><td>9117</td><td>109</td><td>3</td><td>2</td><td>4</td><td>3</td><td>119</td><td>2</td><td>3</td><td>350</td><td>182</td><td>18</td><td>46</td><td>18</td><td>46</td><td>12</td><td>2</td><td>97</td><td>94</td><td>37</td><td>96</td><td>92</td><td>92</td><td>94</td><td>97</td><td>94</td><td>76</td><td>9</td><td>3</td><td>3</td><td>2</td><td>413</td><td>21</td><td>12</td><td>28</td><td>12</td><td>20</td><td>29</td></tr><tr><td>929241</td><td>97</td><td>9</td><td>185744</td><td>2</td><td>3</td><td>31533</td><td>4970</td><td>129</td><td>9117</td><td>109</td><td>3</td><td>2</td><td>4</td><td>3</td><td>119</td><td>2</td><td>3</td><td>350</td><td>182</td><td>18</td><td>46</td><td>18</td><td>46</td><td>12</td><td>2</td><td>97</td><td>94</td><td>37</td><td>96</td><td>92</td><td>92</td><td>94</td><td>97</td><td>94</td><td>76</td><td>9</td><td>3</td><td>3</td><td>2</td><td>413</td><td>21</td><td>12</td><td>28</td><td>12</td><td>20</td><td>29</td></tr><tr><td>929241</td><td>97</td><td>9</td><td>185744</td><td>2</td><td>3</td><td>31533</td><td>4970</td><td>129</td><td>9117</td><td>109</td><td>3</td><td>2</td><td>4</td><td>3</td><td>119</td><td>2</td><td>3</td><td>350</td><td>182</td><td>18</td><td>46</td><td>18</td><td>46</td><td>12</td><td>2</td><td>97</td><td>94</td><td>37</td><td>96</td><td>92</td><td>92</td><td>94</td><td>97</td><td>94</td><td>76</td><td>9</td><td>3</td><td>3</td><td>2</td><td>413</td><td>21</td><td>12</td><td>28</td><td>12</td><td>20</td><td>29</td></tr><tr><td>929241</td><td>97</td><td>9</td><td>185744</td><td>2</td><td>3</td><td>31533</td><td>4970</td><td>129</td><td>9117</td><td>109</td><td>3</td><td>2</td><td>4</td><td>3</td><td>119</td><td>2</td><td>3</td><td>350</td><td>182</td><td>18</td><td>46</td><td>18</td><td>46</td><td>12</td><td>2</td><td>97</td><td>94</td><td>37</td><td>96</td><td>92</td><td>92</td><td>94</td><td>97</td><td>94</td><td>76</td><td>9</td><td>3</td><td>3</td><td>2</td><td>413</td><td>21</td><td>12</td><td>28</td><td>12</td><td>20</td><td>29</td></tr><tr><td>929241</td><td>97</td><td>9</td><td>185744</td><td>2</td><td>3</td><td>31533</td><td>4970</td><td>129</td><td>9117</td><td>109</td><td>3</td><td>2</td><td>4</td><td>3</td><td>119</td><td>2</td><td>3</td><td>350</td><td>182</td><td>18</td><td>46</td><td>18</td><td>46</td><td>12</td><td>2</td><td>97</td><td>94</td><td>37</td><td>96</td><td>92</td><td>92</td><td>94</td><td>97</td><td>94</td><td>76</td><td>9</td><td>3</td><td>3</td><td>2</td><td>413</td><td>21</td><td>12</td><td>28</td><td>12</td><td>20</td><td>29</td></tr><tr><td>929241</td><td>97</td><td>9</td><td>185744</td><td>2</td><td>3</td><td>31533</td><td>4970</td><td>129</td><td>9117</td><td>109</td><td>3</td><td>2</td><td>4</td><td>3</td><td>119</td><td>2</td><td>3</td><td>350</td><td>182</td><td>18</td><td>46</td><td>18</td><td>46</td><td>12</td><td>2</td><td>97</td><td>94</td><td>37</td><td>96</td><td>92</td><td>92</td><td>94</td><td>97</td><td>94</td><td>76</td><td>9</td><td>3</td><td>3</td><td>2</td><td>413</td><td>21</td><td>12</td><td>28</td><td>12</td><td>20</td><td>29</td></tr><tr><td>929241</td><td>97</td><td>9</td><td>185744</td><td>2</td><td>3</td><td>31533</td><td>4970</td><td>129</td><td>9117</td><td>109</td><td>3</td><td>2</td><td>4</td><td>3</td><td>119</td><td>2</td><td>3</td><td>350</td><td>182</td><td>18</td><td>46</td><td>18</td><td>46</td><td>12</td><td>2</td><td>97</td><td>94</td><td>37</td><td>96</td><td>92</td><td>92</td><td>94</td><td>97</td><td>94</td><td>76</td><td>9</td><td>3</td><td>3</td><td>2</td><td>413</td><td>21</td><td>12</td><td>28</td><td>12</td><td>20</td><td>29</td></tr><tr><td>929241</td><td>97</td><td>9</td><td>185744</td><td>2</td><td>3</td><td>31533</td><td>4970</td><td>129</td><td>9117</td><td>109</td><td>3</td><td>2</td><td>4</td><td>3</td><td>119</td><td>2</td><td>3</td><td>350</td><td>182</td><td>18</td><td>46</td><td>18</td><td>46</td><td>12</td><td>2</td><td>97</td><td>94</td><td>37</td><td>96</td><td>92</td><td>92</td><td>94</td><td>97</td><td>94</td><td>76</td><td>9</td><td>3</td><td>3</td><td>2</td><td>413</td><td>21</td><td>12</td><td>28</td><td>12</td><td>20</td><td>29</td></tr><tr><td>929241</td><td>97</td><td>9</td><td>185744</td><td>2</td><td>3</td><td>31533</td><td>4970</td><td>129</td><td>9117</td><td>109</td><td>3</td><td>2</td><td>4</td><td>3</td><td>119</td><td>2</td><td>3</td><td>350</td><td>182</td><td>18</td><td>46</td><td>18</td><td>46</td><td>12</td><td>2</td><td>97</td><td>94</td><td>37</td><td>96</td><td>92</td><td>92</td><td>94</td><td>97</td><td>94</td><td>76</td><td>9</td><td>3</td><td>3</td><td>2</td><td>413</td><td>21</td><td>12</td><td>28</td><td>12</td><td>20</td><td>29</td></tr></tbody></table></div>"
      ],
      "text/plain": [
       "shape: (929_241, 47)\n",
       "┌────────┬─────────┬─────────┬────────┬───┬──────────────┬─────────────┬─────────────┬─────────────┐\n",
       "│ index  ┆ user_id ┆ card_id ┆ amount ┆ … ┆ acct_open_da ┆ acct_open_d ┆ YearsFromAc ┆ YearsFromPi │\n",
       "│ ---    ┆ ---     ┆ ---     ┆ ---    ┆   ┆ te_year      ┆ ate_month   ┆ ctOpenToPin ┆ nChangeToEx │\n",
       "│ u32    ┆ u32     ┆ u32     ┆ u32    ┆   ┆ ---          ┆ ---         ┆ Change      ┆ pires       │\n",
       "│        ┆         ┆         ┆        ┆   ┆ u32          ┆ u32         ┆ ---         ┆ ---         │\n",
       "│        ┆         ┆         ┆        ┆   ┆              ┆             ┆ u32         ┆ u32         │\n",
       "╞════════╪═════════╪═════════╪════════╪═══╪══════════════╪═════════════╪═════════════╪═════════════╡\n",
       "│ 929241 ┆ 97      ┆ 9       ┆ 185744 ┆ … ┆ 28           ┆ 12          ┆ 20          ┆ 29          │\n",
       "│ 929241 ┆ 97      ┆ 9       ┆ 185744 ┆ … ┆ 28           ┆ 12          ┆ 20          ┆ 29          │\n",
       "│ 929241 ┆ 97      ┆ 9       ┆ 185744 ┆ … ┆ 28           ┆ 12          ┆ 20          ┆ 29          │\n",
       "│ 929241 ┆ 97      ┆ 9       ┆ 185744 ┆ … ┆ 28           ┆ 12          ┆ 20          ┆ 29          │\n",
       "│ …      ┆ …       ┆ …       ┆ …      ┆ … ┆ …            ┆ …           ┆ …           ┆ …           │\n",
       "│ 929241 ┆ 97      ┆ 9       ┆ 185744 ┆ … ┆ 28           ┆ 12          ┆ 20          ┆ 29          │\n",
       "│ 929241 ┆ 97      ┆ 9       ┆ 185744 ┆ … ┆ 28           ┆ 12          ┆ 20          ┆ 29          │\n",
       "│ 929241 ┆ 97      ┆ 9       ┆ 185744 ┆ … ┆ 28           ┆ 12          ┆ 20          ┆ 29          │\n",
       "│ 929241 ┆ 97      ┆ 9       ┆ 185744 ┆ … ┆ 28           ┆ 12          ┆ 20          ┆ 29          │\n",
       "└────────┴─────────┴─────────┴────────┴───┴──────────────┴─────────────┴─────────────┴─────────────┘"
      ]
     },
     "execution_count": 19,
     "metadata": {},
     "output_type": "execute_result"
    }
   ],
   "source": [
    "all_data.with_columns(\n",
    "    pl.col(\"*\").n_unique()\n",
    ")"
   ]
  },
  {
   "cell_type": "code",
   "execution_count": null,
   "metadata": {},
   "outputs": [],
   "source": []
  },
  {
   "cell_type": "code",
   "execution_count": null,
   "metadata": {},
   "outputs": [],
   "source": []
  },
  {
   "cell_type": "code",
   "execution_count": null,
   "metadata": {},
   "outputs": [],
   "source": []
  },
  {
   "cell_type": "code",
   "execution_count": null,
   "metadata": {},
   "outputs": [],
   "source": []
  }
 ],
 "metadata": {
  "kernelspec": {
   "display_name": "Python 3",
   "language": "python",
   "name": "python3"
  },
  "language_info": {
   "codemirror_mode": {
    "name": "ipython",
    "version": 3
   },
   "file_extension": ".py",
   "mimetype": "text/x-python",
   "name": "python",
   "nbconvert_exporter": "python",
   "pygments_lexer": "ipython3",
   "version": "3.11.4"
  },
  "orig_nbformat": 4
 },
 "nbformat": 4,
 "nbformat_minor": 2
}
