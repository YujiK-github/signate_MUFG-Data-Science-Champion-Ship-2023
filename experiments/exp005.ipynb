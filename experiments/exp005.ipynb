{
 "cells": [
  {
   "cell_type": "code",
   "execution_count": 1,
   "metadata": {},
   "outputs": [],
   "source": [
    "# ===============================================================\n",
    "#  Library\n",
    "# ===============================================================\n",
    "import numpy as np\n",
    "import polars as pl\n",
    "\n",
    "from iterstrat.ml_stratifiers import MultilabelStratifiedKFold\n",
    "\n",
    "import warnings\n",
    "warnings.simplefilter(\"ignore\")\n",
    "\n",
    "import lightgbm as lgb\n",
    "\n",
    "import sys\n",
    "sys.path.append(\"G:/マイドライブ/signate_MUFJ2023/\")\n",
    "from MUFJ.utils import get_score, seed_everything\n",
    "from MUFJ.preprocessing import CustomOrdinalEncoder\n",
    "\n",
    "import xgboost as xgb\n",
    "from tqdm.auto import tqdm"
   ]
  },
  {
   "cell_type": "code",
   "execution_count": 20,
   "metadata": {},
   "outputs": [],
   "source": [
    "# ===============================================================\n",
    "#  CFG\n",
    "# ===============================================================\n",
    "class CFG:\n",
    "    debug = False\n",
    "    seed = 42\n",
    "    n_splits = 5\n",
    "    num_cores = 4\n",
    "    data_dir = \"G:/マイドライブ/signate_MUFJ2023/data/\"\n",
    "    stopping_rounds = 100\n",
    "    save_dir = \"G:/マイドライブ/signate_MUFJ2023/exp/\"\n",
    "    filename = \"exp005\"\n",
    "    numerical_features = [\n",
    "        \"amount\", 'cards_issued', 'credit_limit','year_pin_last_changed','current_age','retirement_age','birth_year','birth_month', 'latitude', 'longitude',\n",
    "        'per_capita_income_zipcode', 'yearly_income_person', 'total_debt','fico_score', 'num_credit_cards', 'expires_month','expires_year','acct_open_date_month', \n",
    "        'acct_open_date_year', \n",
    "    ]\n",
    "        \n",
    "    categorical_features = [\n",
    "        \"errors?\", 'merchant_id', 'merchant_city','merchant_state','zip',\"mcc\",'use_chip','card_brand','card_type', 'has_chip','gender', 'city', 'state', 'zipcode',\n",
    "        \"card_id\", \"user_id\",\n",
    "        ]\n",
    "    target_cols = [\"is_fraud?\"]"
   ]
  },
  {
   "cell_type": "code",
   "execution_count": 3,
   "metadata": {},
   "outputs": [],
   "source": [
    "# ===============================================================\n",
    "#  Utils\n",
    "# ===============================================================\n",
    "seed_everything(CFG.seed)"
   ]
  },
  {
   "cell_type": "code",
   "execution_count": 4,
   "metadata": {},
   "outputs": [],
   "source": [
    "# ===============================================================\n",
    "#  Data Loading\n",
    "# ===============================================================\n",
    "train = pl.read_csv(CFG.data_dir+\"train.csv\")\n",
    "test = pl.read_csv(CFG.data_dir+\"test.csv\")\n",
    "card = pl.read_csv(CFG.data_dir+\"card.csv\")\n",
    "user = pl.read_csv(CFG.data_dir+\"user.csv\")\n",
    "\n",
    "train = train.with_columns(\n",
    "    pl.lit(\"train\").alias(\"flag\")\n",
    ")\n",
    "test = test.with_columns(\n",
    "    [\n",
    "        pl.lit(None, dtype=pl.Int64).alias(\"is_fraud?\"),\n",
    "        pl.lit(\"test\").alias(\"flag\"),\n",
    "    ]\n",
    ")\n",
    "\n",
    "if CFG.debug:\n",
    "    train = train.sample(n=10000, seed=CFG.seed)\n",
    "    test = test.sample(n=1000, seed=CFG.seed)\n",
    "\n",
    "all_data = pl.concat([train, test], how=\"align\")\n",
    "all_data = all_data.join(\n",
    "    card, on=[\"user_id\", \"card_id\"], how=\"left\"\n",
    ")\n",
    "all_data = all_data.join(\n",
    "    user, on=\"user_id\", how=\"left\"\n",
    ")"
   ]
  },
  {
   "cell_type": "code",
   "execution_count": 5,
   "metadata": {},
   "outputs": [],
   "source": [
    "# ===============================================================\n",
    "#  Preprocessing\n",
    "# ===============================================================\n",
    "def preprocessing(all_data: pl.DataFrame) -> pl.DataFrame:\n",
    "    \n",
    "    all_data = all_data.with_columns(\n",
    "        [   \n",
    "            # str -> float\n",
    "            pl.col(\"amount\").apply(lambda x: x[1:]).cast(pl.Float64),\n",
    "            pl.col(\"total_debt\").apply(lambda x: x[1:]).cast(pl.Float64),\n",
    "            pl.col(\"credit_limit\").apply(lambda x: x[1:]).cast(pl.Float64),\n",
    "            pl.col(\"yearly_income_person\").apply(lambda x: x[1:]).cast(pl.Float64),\n",
    "            pl.col(\"per_capita_income_zipcode\").apply(lambda x: x[1:]).cast(pl.Float64),\n",
    "            \n",
    "            # str -> Datetime\n",
    "            pl.col(\"expires\").str.strptime(dtype=pl.Date, format=\"%m/%Y\"),\n",
    "            pl.col(\"acct_open_date\").str.strptime(dtype=pl.Date, format=\"%m/%Y\"),\n",
    "            \n",
    "            # user_id + card_id\n",
    "            (pl.col(\"user_id\").cast(pl.Utf8) + \"-\" + pl.col(\"card_id\").cast(pl.Utf8)).alias(\"user_card_id\"),\n",
    "        ]\n",
    "    )\n",
    "    \n",
    "    all_data = all_data.with_columns(\n",
    "        [\n",
    "            # Datetime -> Month, Year\n",
    "            pl.col(\"expires\").dt.year().suffix(\"_year\"),\n",
    "            pl.col(\"expires\").dt.month().suffix(\"_month\"),\n",
    "            pl.col(\"acct_open_date\").dt.year().suffix(\"_year\"),\n",
    "            pl.col(\"acct_open_date\").dt.month().suffix(\"_month\"),\n",
    "            \n",
    "            # data\n",
    "            pl.lit(None).alias(\"fold\")\n",
    "        ]\n",
    "    )\n",
    "    \n",
    "    return all_data\n",
    "all_data = preprocessing(all_data)"
   ]
  },
  {
   "cell_type": "code",
   "execution_count": 6,
   "metadata": {},
   "outputs": [],
   "source": [
    "# ===================================================================\n",
    "#  Cross Validation\n",
    "# ===================================================================\n",
    "def kfold(df: pl.DataFrame) -> pl.DataFrame:\n",
    "    df = df.sort(\"index\")\n",
    "    df = df.with_columns(pl.Series(range(len(df))).alias(\"id\"))\n",
    "    skf = MultilabelStratifiedKFold(n_splits=CFG.n_splits, shuffle=True, random_state=CFG.seed)\n",
    "    for i, (_, val) in enumerate(skf.split(X=df, y=df[[\"is_fraud?\", \"card_id\"]])):\n",
    "        df = df.with_columns(\n",
    "            pl.when(pl.col(\"id\").is_in(val))\n",
    "            .then(pl.lit(i))\n",
    "            .otherwise(pl.col(\"fold\"))\n",
    "            .alias(\"fold\")\n",
    "        )\n",
    "    return df"
   ]
  },
  {
   "cell_type": "code",
   "execution_count": 15,
   "metadata": {},
   "outputs": [],
   "source": [
    "# ===============================================================\n",
    "#  Preprocessing_per_fold\n",
    "# ===============================================================\n",
    "def preprocessing_per_fold(CFG, train: pl.DataFrame, test: pl.DataFrame, fold:int):\n",
    "#def preprocessing_per_fold(CFG, train: pl.DataFrame, fold:int):\n",
    "    # data split\n",
    "    X_train = train.filter(pl.col(\"fold\") != fold)\n",
    "    X_valid = train.filter(pl.col(\"fold\") == fold)\n",
    "    test_df = test.clone()\n",
    "        \n",
    "    # OrdinalEncoder\n",
    "    oe = CustomOrdinalEncoder(encoded_missing_value=-1)\n",
    "    X_train = pl.concat([X_train, \n",
    "                        oe.fit_transform(X_train[CFG.categorical_features])\n",
    "                        ], how=\"horizontal\")\n",
    "    X_valid = pl.concat([X_valid, \n",
    "                        oe.transform(X_valid[CFG.categorical_features])\n",
    "                        ], how=\"horizontal\")\n",
    "    test_df = pl.concat([test_df, \n",
    "                        oe.transform(test_df[CFG.categorical_features])\n",
    "                        ], how=\"horizontal\")\n",
    "    \n",
    "    \n",
    "    return X_train, X_valid, test_df"
   ]
  },
  {
   "cell_type": "code",
   "execution_count": 16,
   "metadata": {},
   "outputs": [],
   "source": [
    "lgb_param = {\n",
    "    \"task\":\"train\",\n",
    "    \"objective\": \"binary\",\n",
    "    \"boosting\":\"gbdt\",\n",
    "    \"num_iterations\": 10000, # default: 100\n",
    "    \"learning_rate\": 0.05, # default: 0.1\n",
    "    \"num_leaves\": int((2**6) * 0.7), # max number of leaves in one tree\n",
    "    \"max_depth\": 6, # default -1, int: limit the max depth for tree model  ### xgboost, catboostに合わせる\n",
    "    \"min_child_weight\":1e-3, # double: minimal sum hessian in one leaf\n",
    "    \"min_data_in_leaf\":20, # minimal number of data in one leaf\n",
    "    \"alpha\":0.9, # double, constraints, alpha > 0.0: \n",
    "    \"colsample_bytree\":0.4, # 0 < \"colsample_bytree\" < 1\n",
    "    #: LightGBM will randomly select a subset of features on each iteration (tree) if feature_fraction is smaller than 1.0\n",
    "    \"lambda\": 0, #lambda_l2 >= 0.0: L2 regularization\n",
    "    \"subsample\":1, #0.0 < bagging_fraction <= 1.0\n",
    "    \"num_threads\": CFG.num_cores,\n",
    "    \"metric\": 'binary_logloss',\n",
    "    \"seed\" : CFG.seed,\n",
    "    \"verbosity\": -1, \n",
    "}"
   ]
  },
  {
   "cell_type": "code",
   "execution_count": 18,
   "metadata": {},
   "outputs": [
    {
     "data": {
      "application/vnd.jupyter.widget-view+json": {
       "model_id": "6689aa1d10c2463e82c3d94b5c79888d",
       "version_major": 2,
       "version_minor": 0
      },
      "text/plain": [
       "  0%|          | 0/97 [00:00<?, ?it/s]"
      ]
     },
     "metadata": {},
     "output_type": "display_data"
    }
   ],
   "source": [
    "TEST_DF = pl.DataFrame()\n",
    "oof_df = pl.DataFrame()\n",
    "for user in tqdm(all_data[\"user_id\"].unique()):\n",
    "    # data split\n",
    "    train = all_data.filter(\n",
    "        (pl.col(\"flag\") == \"train\")&(pl.col(\"user_id\") == user)\n",
    "    )\n",
    "    test = all_data.filter(\n",
    "        (pl.col(\"flag\") == \"test\")&(pl.col(\"user_id\") == user)\n",
    "    )\n",
    "    \n",
    "    # kfold\n",
    "    train = kfold(train)\n",
    "    preds = []\n",
    "    for fold in range(CFG.n_splits):\n",
    "        X_train, X_valid, test_df = preprocessing_per_fold(CFG, train, test, fold)\n",
    "        \n",
    "        CFG.use_features = CFG.numerical_features + [col+\"_category\" for col in CFG.categorical_features]\n",
    "\n",
    "\n",
    "        \n",
    "        categorical_features = [col for col in CFG.use_features if \"_category\" in col]\n",
    "        lgb_train = lgb.Dataset(X_train[CFG.use_features].to_pandas(), X_train[CFG.target_cols].to_pandas(), categorical_feature = categorical_features,)\n",
    "        lgb_valid = lgb.Dataset(X_valid[CFG.use_features].to_pandas(), X_valid[CFG.target_cols].to_pandas(), categorical_feature = categorical_features,)\n",
    "        model = lgb.train(\n",
    "                        lgb_param, \n",
    "                        lgb_train, \n",
    "                        valid_sets=[lgb_valid],\n",
    "                        categorical_feature = categorical_features,\n",
    "                        callbacks=[lgb.early_stopping(stopping_rounds=CFG.stopping_rounds, verbose=False),\n",
    "                                   #lgb.log_evaluation(period=200)\n",
    "                                   ],\n",
    "                        )\n",
    "        \n",
    "        # valid\n",
    "        X_valid = X_valid.with_columns(\n",
    "            pl.Series(model.predict(X_valid[CFG.use_features].to_pandas(), num_iteration=model.best_iteration)).alias(\"pred\")\n",
    "        )\n",
    "        #print(f\"fold{fold}:\", get_score(y_true=X_valid[CFG.target_cols], y_pred=X_valid[\"pred\"]))\n",
    "        \n",
    "        # oof\n",
    "        oof_df = pl.concat(\n",
    "            [oof_df, X_valid]\n",
    "        )\n",
    "        \n",
    "        # predict\n",
    "        preds.append(model.predict(test_df[CFG.use_features].to_pandas(), num_iteration=model.best_iteration))\n",
    "        \n",
    "    test_df = test_df.with_columns(\n",
    "        pl.Series(np.mean(preds, axis=0)).alias(\"pred\")\n",
    "    )\n",
    "    TEST_DF = pl.concat(\n",
    "        [TEST_DF, test_df]\n",
    "    )"
   ]
  },
  {
   "cell_type": "code",
   "execution_count": 21,
   "metadata": {},
   "outputs": [
    {
     "data": {
      "application/vnd.jupyter.widget-view+json": {
       "model_id": "ec2ba780c32f442e8d4f13591aa97517",
       "version_major": 2,
       "version_minor": 0
      },
      "text/plain": [
       "  0%|          | 0/200 [00:00<?, ?it/s]"
      ]
     },
     "metadata": {},
     "output_type": "display_data"
    },
    {
     "data": {
      "text/plain": [
       "(0.6606264292148846, 0.35000000000000003)"
      ]
     },
     "execution_count": 21,
     "metadata": {},
     "output_type": "execute_result"
    }
   ],
   "source": [
    "get_score(y_true=OOF_DF[\"is_fraud?\"], y_pred=OOF_DF[\"pred\"], step=0.005, return_threshold=True)"
   ]
  },
  {
   "cell_type": "code",
   "execution_count": 25,
   "metadata": {},
   "outputs": [],
   "source": [
    "# ===================================================================\n",
    "#  save_data\n",
    "# ===================================================================\n",
    "\n",
    "# oof_df\n",
    "oof_df = oof_df.sort(\"index\")\n",
    "oof_df[[\"index\", \"pred\"]].write_csv(CFG.save_dir+f\"oof_df_{CFG.filename}.csv\", has_header=True)\n",
    "\n",
    "# test\n",
    "TEST_DF = TEST_DF.sort(\"index\")\n",
    "TEST_DF = TEST_DF.with_columns(\n",
    "    pl.when(pl.col(\"pred\") > 0.35000000000000003)\n",
    "    .then(1)\n",
    "    .otherwise(0)\n",
    "    .alias(\"pred\")\n",
    ")\n",
    "TEST_DF[[\"index\", \"pred\"]].write_csv(CFG.save_dir+f\"{CFG.filename}.csv\", has_header=False)"
   ]
  },
  {
   "cell_type": "code",
   "execution_count": 27,
   "metadata": {},
   "outputs": [
    {
     "data": {
      "text/html": [
       "<div><style>\n",
       ".dataframe > thead > tr > th,\n",
       ".dataframe > tbody > tr > td {\n",
       "  text-align: right;\n",
       "}\n",
       "</style>\n",
       "<small>shape: (2, 2)</small><table border=\"1\" class=\"dataframe\"><thead><tr><th>index</th><th>pred</th></tr><tr><td>i64</td><td>i32</td></tr></thead><tbody><tr><td>471283</td><td>0</td></tr><tr><td>471284</td><td>0</td></tr></tbody></table></div>"
      ],
      "text/plain": [
       "shape: (2, 2)\n",
       "┌────────┬──────┐\n",
       "│ index  ┆ pred │\n",
       "│ ---    ┆ ---  │\n",
       "│ i64    ┆ i32  │\n",
       "╞════════╪══════╡\n",
       "│ 471283 ┆ 0    │\n",
       "│ 471284 ┆ 0    │\n",
       "└────────┴──────┘"
      ]
     },
     "execution_count": 27,
     "metadata": {},
     "output_type": "execute_result"
    }
   ],
   "source": [
    "TEST_DF[[\"index\", \"pred\"]].head(2)"
   ]
  }
 ],
 "metadata": {
  "kernelspec": {
   "display_name": "Python 3",
   "language": "python",
   "name": "python3"
  },
  "language_info": {
   "codemirror_mode": {
    "name": "ipython",
    "version": 3
   },
   "file_extension": ".py",
   "mimetype": "text/x-python",
   "name": "python",
   "nbconvert_exporter": "python",
   "pygments_lexer": "ipython3",
   "version": "3.11.4"
  },
  "orig_nbformat": 4
 },
 "nbformat": 4,
 "nbformat_minor": 2
}
