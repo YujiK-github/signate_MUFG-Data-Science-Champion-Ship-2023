{
 "cells": [
  {
   "cell_type": "code",
   "execution_count": 1,
   "metadata": {},
   "outputs": [],
   "source": [
    "# ============================================\n",
    "#  Library\n",
    "# ============================================\n",
    "import os\n",
    "import math\n",
    "import time\n",
    "import random\n",
    "import numpy as np\n",
    "from tqdm.auto import tqdm\n",
    "from sklearn.metrics import f1_score\n",
    "import numpy as np\n",
    "import sys\n",
    "sys.path.append(\"G:/マイドライブ/signate_MUFJ2023/\")\n",
    "from MUFJ.utils import get_score, seed_everything\n",
    "import polars as pl\n",
    "from sklearn.metrics import log_loss\n",
    "import optuna\n",
    "optuna.logging.set_verbosity(optuna.logging.WARNING)"
   ]
  },
  {
   "cell_type": "code",
   "execution_count": 2,
   "metadata": {},
   "outputs": [],
   "source": [
    "# ============================================\n",
    "#  CFG\n",
    "# ============================================\n",
    "class CFG:\n",
    "    seed = 42\n",
    "    save_dir = \"G:/マイドライブ/signate_MUFJ2023/exp/\"\n",
    "    data_dir = \"G:/マイドライブ/signate_MUFJ2023/data/\"\n",
    "    filename = \"exp012\""
   ]
  },
  {
   "cell_type": "code",
   "execution_count": 3,
   "metadata": {},
   "outputs": [],
   "source": [
    "# ============================================\n",
    "#  Utils\n",
    "# ============================================\n",
    "seed_everything(CFG.seed)"
   ]
  },
  {
   "cell_type": "code",
   "execution_count": 4,
   "metadata": {},
   "outputs": [],
   "source": [
    "# ============================================\n",
    "#  Data Loading\n",
    "# ============================================\n",
    "df = pl.read_csv(CFG.save_dir+\"oof_df_exp009.csv\").rename({\"pred\":\"pred1\"})\n",
    "df = df.join(\n",
    "    pl.read_csv(CFG.save_dir+\"oof_df_exp010.csv\").rename({\"pred\":\"pred2\"}),\n",
    "    on=\"index\", how=\"left\",\n",
    ")\n",
    "df = df.join(\n",
    "    pl.read_csv(CFG.save_dir+\"oof_df_exp011.csv\").rename({\"pred\":\"pred3\"}),\n",
    "    on=\"index\", how=\"left\",\n",
    ")\n",
    "df = df.join(\n",
    "    pl.read_csv(CFG.data_dir+\"train.csv\"),\n",
    "    on=\"index\", how=\"left\",\n",
    ")"
   ]
  },
  {
   "cell_type": "code",
   "execution_count": 5,
   "metadata": {},
   "outputs": [
    {
     "data": {
      "application/vnd.jupyter.widget-view+json": {
       "model_id": "13247ef3b81f496a9903e0d3567abd4c",
       "version_major": 2,
       "version_minor": 0
      },
      "text/plain": [
       "  0%|          | 0/1000 [00:00<?, ?it/s]"
      ]
     },
     "metadata": {},
     "output_type": "display_data"
    },
    {
     "name": "stdout",
     "output_type": "stream",
     "text": [
      "{'a': 0.914367472905719, 'b': 0.032955738198027086, 'c': 0.07060997192225493} 0.11795440757466388\n"
     ]
    }
   ],
   "source": [
    "# ============================================\n",
    "#  optuna\n",
    "# ============================================\n",
    "def objective(trial):\n",
    "    a = trial.suggest_float(\"a\", 0, 1)\n",
    "    b = trial.suggest_float(\"b\", 0, 1)  \n",
    "    c = trial.suggest_float(\"c\", 0, 1)  \n",
    "    pred = df[\"pred1\"]*a + df[\"pred2\"]*b + df[\"pred3\"]*c\n",
    "    return log_loss(y_true=df[\"is_fraud?\"], y_pred=pred)\n",
    "\n",
    "study = optuna.create_study(direction=\"minimize\",\n",
    "                            sampler=optuna.samplers.TPESampler(seed=CFG.seed),\n",
    "                            study_name = \"Hyperparameter Optimization\")\n",
    "study.optimize(objective, \n",
    "                n_trials=1000,\n",
    "                show_progress_bar=True)\n",
    "\n",
    "best_params = study.best_params\n",
    "best_value = study.best_value\n",
    "print(best_params, best_value)"
   ]
  },
  {
   "cell_type": "code",
   "execution_count": 6,
   "metadata": {},
   "outputs": [
    {
     "data": {
      "application/vnd.jupyter.widget-view+json": {
       "model_id": "c6de67d8c71049d2925f21c16ce748bd",
       "version_major": 2,
       "version_minor": 0
      },
      "text/plain": [
       "  0%|          | 0/200 [00:00<?, ?it/s]"
      ]
     },
     "metadata": {},
     "output_type": "display_data"
    },
    {
     "name": "stdout",
     "output_type": "stream",
     "text": [
      "\u001b[32m====== CV score ======\u001b[0m\n",
      "\u001b[32m0.686212636105139 (threshold: 0.36)\u001b[0m\n"
     ]
    }
   ],
   "source": [
    "# ============================================\n",
    "#  Check\n",
    "# ============================================\n",
    "df = df.with_columns(\n",
    "    [\n",
    "        (pl.col(\"pred1\") * best_params[\"a\"] + pl.col(\"pred2\") * best_params[\"b\"] + pl.col(\"pred3\") * best_params[\"c\"]).alias(\"pred4\"),\n",
    "    ]\n",
    ")\n",
    "best_score, threshold = get_score(df[\"is_fraud?\"], df[\"pred4\"], step=0.005, return_threshold=True, disable=False, )\n",
    "print('\\033[32m'+\"====== CV score ======\"+'\\033[0m')\n",
    "print('\\033[32m'+f'{best_score} (threshold: {threshold})'+'\\033[0m')"
   ]
  },
  {
   "cell_type": "code",
   "execution_count": 7,
   "metadata": {},
   "outputs": [
    {
     "data": {
      "text/html": [
       "<div><style>\n",
       ".dataframe > thead > tr > th,\n",
       ".dataframe > tbody > tr > td {\n",
       "  text-align: right;\n",
       "}\n",
       "</style>\n",
       "<small>shape: (5, 2)</small><table border=\"1\" class=\"dataframe\"><thead><tr><th>index</th><th>pred</th></tr><tr><td>i64</td><td>i32</td></tr></thead><tbody><tr><td>471283</td><td>0</td></tr><tr><td>471284</td><td>0</td></tr><tr><td>471285</td><td>0</td></tr><tr><td>471286</td><td>1</td></tr><tr><td>471287</td><td>0</td></tr></tbody></table></div>"
      ],
      "text/plain": [
       "shape: (5, 2)\n",
       "┌────────┬──────┐\n",
       "│ index  ┆ pred │\n",
       "│ ---    ┆ ---  │\n",
       "│ i64    ┆ i32  │\n",
       "╞════════╪══════╡\n",
       "│ 471283 ┆ 0    │\n",
       "│ 471284 ┆ 0    │\n",
       "│ 471285 ┆ 0    │\n",
       "│ 471286 ┆ 1    │\n",
       "│ 471287 ┆ 0    │\n",
       "└────────┴──────┘"
      ]
     },
     "execution_count": 7,
     "metadata": {},
     "output_type": "execute_result"
    }
   ],
   "source": [
    "# ============================================\n",
    "#  test\n",
    "# ============================================\n",
    "df = pl.read_csv(CFG.save_dir+\"exp009.csv\", has_header=False, new_columns=[\"index\", \"pred1\"])\n",
    "df = df.join(\n",
    "    pl.read_csv(CFG.save_dir+\"exp010.csv\", has_header=False, new_columns=[\"index\", \"pred2\"]),\n",
    "    on=\"index\", how=\"left\",\n",
    ")\n",
    "df = df.join(\n",
    "    pl.read_csv(CFG.save_dir+\"exp011.csv\", has_header=False, new_columns=[\"index\", \"pred3\"]),\n",
    "    on=\"index\", how=\"left\",\n",
    ")\n",
    "df = df.with_columns(\n",
    "    [\n",
    "        (pl.col(\"pred1\") * best_params[\"a\"] + pl.col(\"pred2\") * best_params[\"b\"] + pl.col(\"pred3\") * best_params[\"c\"]).alias(\"pred\"),\n",
    "    ]\n",
    ")\n",
    "df = df.with_columns(\n",
    "    [\n",
    "        pl.when(pl.col(\"pred\") > threshold)\n",
    "        .then(1)\n",
    "        .otherwise(0)\n",
    "        .alias(\"pred\")\n",
    "    ]\n",
    ")\n",
    "df[[\"index\", \"pred\"]].write_csv(CFG.save_dir+f\"{CFG.filename}.csv\", has_header=False)\n",
    "df[[\"index\", \"pred\"]].head(5)"
   ]
  }
 ],
 "metadata": {
  "kernelspec": {
   "display_name": "Python 3",
   "language": "python",
   "name": "python3"
  },
  "language_info": {
   "codemirror_mode": {
    "name": "ipython",
    "version": 3
   },
   "file_extension": ".py",
   "mimetype": "text/x-python",
   "name": "python",
   "nbconvert_exporter": "python",
   "pygments_lexer": "ipython3",
   "version": "3.11.4"
  },
  "orig_nbformat": 4
 },
 "nbformat": 4,
 "nbformat_minor": 2
}
