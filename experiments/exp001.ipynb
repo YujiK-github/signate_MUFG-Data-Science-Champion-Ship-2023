{
 "cells": [
  {
   "cell_type": "code",
   "execution_count": 12,
   "metadata": {},
   "outputs": [],
   "source": [
    "# ===============================================================\n",
    "#  Library\n",
    "# ===============================================================\n",
    "import os\n",
    "import random\n",
    "import numpy as np\n",
    "import pandas as pd\n",
    "import matplotlib.pyplot as plt\n",
    "import seaborn as sns\n",
    "\n",
    "from sklearn.metrics import f1_score\n",
    "from sklearn.preprocessing import OrdinalEncoder\n",
    "from sklearn.model_selection import StratifiedKFold\n",
    "\n",
    "import multiprocessing\n",
    "NUM_CORES = multiprocessing.cpu_count()\n",
    "\n",
    "import warnings\n",
    "#warnings.simplefilter(\"ignore\")\n",
    "\n",
    "from tqdm.auto import tqdm\n",
    "import lightgbm as lgb\n"
   ]
  },
  {
   "cell_type": "code",
   "execution_count": 13,
   "metadata": {},
   "outputs": [],
   "source": [
    "# ===============================================================\n",
    "#  CFG\n",
    "# ===============================================================\n",
    "class CFG:\n",
    "    seed = 42\n",
    "    n_splits = 5\n",
    "    data_dir = \"G:/マイドライブ/signate_MUFJ2023/data/\"\n",
    "    num_boost_round = 10000\n",
    "    stopping_rounds = 1500\n",
    "    save_dir = \"G:/マイドライブ/signate_MUFJ2023/exp/\""
   ]
  },
  {
   "cell_type": "code",
   "execution_count": 14,
   "metadata": {},
   "outputs": [],
   "source": [
    "# ===============================================================\n",
    "#  Utils\n",
    "# ===============================================================\n",
    "def seed_everything(seed):\n",
    "    \"\"\"fix random factors\"\"\"\n",
    "    random.seed(seed)\n",
    "    np.random.seed(seed)\n",
    "    os.environ['PYTHONHASHSEED'] = str(seed)\n",
    "seed_everything(CFG.seed)\n",
    "    \n",
    "\n",
    "def get_score(y_true, y_pred):\n",
    "    \"\"\"\n",
    "    評価関数の入力となる検証用データ、及び学習に使用する学習用データの目的変数について、\n",
    "    1: 不正利用あり, 0: 不正利用なしとします。\n",
    "    \"\"\"\n",
    "    best_score = -np.inf\n",
    "    j = 0\n",
    "    for i in tqdm(np.arange(0, 1, 0.001)):\n",
    "        y_pred_class = [1 if y > i else 0 for y in y_pred]\n",
    "        score = f1_score(y_true, y_pred_class)\n",
    "        if best_score < score:\n",
    "            best_score = score\n",
    "            best_threshold = i\n",
    "            j = 0\n",
    "        else:\n",
    "            j += 1\n",
    "        if j > 100:\n",
    "            break\n",
    "    return best_score, best_threshold"
   ]
  },
  {
   "cell_type": "code",
   "execution_count": 15,
   "metadata": {},
   "outputs": [],
   "source": [
    "# ===============================================================\n",
    "#  Data Loading\n",
    "# ===============================================================\n",
    "train = pd.read_csv(CFG.data_dir+\"train.csv\")\n",
    "test = pd.read_csv(CFG.data_dir+\"test.csv\")\n",
    "card = pd.read_csv(CFG.data_dir+\"card.csv\")\n",
    "user = pd.read_csv(CFG.data_dir+\"user.csv\")\n",
    "\n",
    "train[\"flag\"] = \"train\"\n",
    "test[\"flag\"] = \"test\"\n",
    "all_data = pd.concat([train, test], ignore_index=True)\n",
    "all_data = pd.merge(all_data, card, on=[\"user_id\", \"card_id\"], how=\"left\")\n",
    "all_data = pd.merge(all_data, user, on=\"user_id\", how=\"left\")"
   ]
  },
  {
   "cell_type": "code",
   "execution_count": 16,
   "metadata": {},
   "outputs": [],
   "source": [
    "# ===============================================================\n",
    "#  Preprocessing\n",
    "# ===============================================================\n",
    "# common part\n",
    "## amount\n",
    "all_data[\"amount\"] = all_data[\"amount\"].apply(lambda x:x[1:]).astype(float)\n",
    "\n",
    "\n",
    "all_data['credit_limit'] = all_data['credit_limit'].apply(lambda x:x[1:]).astype(float)\n",
    "\n",
    "## per_capita_income_zipcode\t\n",
    "all_data[\"per_capita_income_zipcode\"] = all_data[\"per_capita_income_zipcode\"].apply(lambda x:x[1:]).astype(float)\n",
    "\n",
    "## yearly_income_person\t\n",
    "all_data[\"yearly_income_person\"] = all_data[\"yearly_income_person\"].apply(lambda x:x[1:]).astype(float)\n",
    "\n",
    "## total_debt\n",
    "all_data[\"total_debt\"] = all_data[\"total_debt\"].apply(lambda x:x[1:]).astype(float)\n",
    "\n",
    "## expires\n",
    "all_data[[\"expires_1\", \"expires_2\"]] = all_data[\"expires\"].str.split(\"/\", expand=True).astype(int)\n",
    "\n",
    "all_data[[\"acct_open_date_1\", \"acct_open_date_2\"]] = all_data[\"acct_open_date\"].str.split(\"/\", expand=True).astype(int)\n"
   ]
  },
  {
   "cell_type": "code",
   "execution_count": 17,
   "metadata": {},
   "outputs": [],
   "source": [
    "CFG.numerical_features = [\n",
    "    \"amount\", 'mcc','cards_issued', 'credit_limit', 'year_pin_last_changed','current_age', 'retirement_age', 'birth_year','birth_month', 'zipcode','latitude', 'longitude', \n",
    "    'fico_score', 'num_credit_cards','zip', 'per_capita_income_zipcode','expires_1','expires_2', 'acct_open_date_1', 'acct_open_date_2']\n",
    "\n",
    "CFG.categorical_features = [\"errors?\", 'merchant_id', \n",
    "    'merchant_city', 'merchant_state', 'use_chip','card_brand', 'card_type',  'has_chip','gender', 'city', 'state', \n",
    "    ]\n",
    "## TODO: 後で確認する特徴量たち\n",
    "CFG.target_cols = ['is_fraud?']\n",
    "\n",
    "## use_features\n",
    "CFG.use_features = list(set(CFG.numerical_features) | set(CFG.categorical_features))"
   ]
  },
  {
   "cell_type": "code",
   "execution_count": 18,
   "metadata": {},
   "outputs": [
    {
     "name": "stdout",
     "output_type": "stream",
     "text": [
      "fold\n",
      "0.0    94257\n",
      "2.0    94257\n",
      "1.0    94257\n",
      "3.0    94256\n",
      "4.0    94256\n",
      "Name: count, dtype: int64\n"
     ]
    }
   ],
   "source": [
    "# ===================================================================\n",
    "#  Cross Validation\n",
    "# ===================================================================\n",
    "train = all_data[all_data[\"flag\"] == \"train\"].reset_index(drop=True)\n",
    "test = all_data[all_data[\"flag\"] == \"test\"].reset_index(drop=True)\n",
    "\n",
    "train.sort_values(by=\"index\", ignore_index=True, inplace=True)\n",
    "\n",
    "skf = StratifiedKFold(n_splits=CFG.n_splits, shuffle=True, random_state=CFG.seed)\n",
    "for i, (_, val) in enumerate(skf.split(X=train, y=train[CFG.target_cols])):\n",
    "    train.loc[val, \"fold\"] = i\n",
    "print(train[\"fold\"].value_counts())"
   ]
  },
  {
   "cell_type": "code",
   "execution_count": 19,
   "metadata": {},
   "outputs": [],
   "source": [
    "oe = OrdinalEncoder(categories=\"auto\",\n",
    "                    handle_unknown=\"use_encoded_value\",\n",
    "                    unknown_value=-2, # 未知のデータは-2に変換する\n",
    "                    encoded_missing_value=-1, # 欠損値は-1に変換する\n",
    "                    )"
   ]
  },
  {
   "cell_type": "code",
   "execution_count": 20,
   "metadata": {},
   "outputs": [],
   "source": [
    "train[CFG.categorical_features] = oe.fit_transform(train[CFG.categorical_features].values)\n",
    "test[CFG.categorical_features] = oe.transform(test[CFG.categorical_features].values)"
   ]
  },
  {
   "cell_type": "code",
   "execution_count": 21,
   "metadata": {},
   "outputs": [
    {
     "data": {
      "text/plain": [
       "['flag', 'expires', 'acct_open_date', 'address']"
      ]
     },
     "execution_count": 21,
     "metadata": {},
     "output_type": "execute_result"
    }
   ],
   "source": [
    "[col for col in train.columns if train[col].dtype == object]"
   ]
  },
  {
   "cell_type": "code",
   "execution_count": 22,
   "metadata": {},
   "outputs": [
    {
     "name": "stderr",
     "output_type": "stream",
     "text": [
      "c:\\Users\\Komiyama Yuji\\AppData\\Local\\Programs\\Python\\Python311\\Lib\\site-packages\\lightgbm\\engine.py:172: UserWarning: Found `n_estimators` in params. Will use it instead of argument\n",
      "  _log_warning(f\"Found `{alias}` in params. Will use it instead of argument\")\n"
     ]
    },
    {
     "name": "stdout",
     "output_type": "stream",
     "text": [
      "Training until validation scores don't improve for 1500 rounds\n",
      "[500]\tvalid_0's binary_logloss: 0.140525\n",
      "[1000]\tvalid_0's binary_logloss: 0.136378\n",
      "[1500]\tvalid_0's binary_logloss: 0.134381\n",
      "[2000]\tvalid_0's binary_logloss: 0.133293\n",
      "[2500]\tvalid_0's binary_logloss: 0.132849\n",
      "[3000]\tvalid_0's binary_logloss: 0.132865\n",
      "[3500]\tvalid_0's binary_logloss: 0.133285\n",
      "Early stopping, best iteration is:\n",
      "[2374]\tvalid_0's binary_logloss: 0.132794\n"
     ]
    },
    {
     "name": "stderr",
     "output_type": "stream",
     "text": [
      " 44%|████▍     | 442/1000 [00:34<00:43, 12.98it/s]\n"
     ]
    },
    {
     "name": "stdout",
     "output_type": "stream",
     "text": [
      "fold0: (0.6518242614069246, 0.341)\n"
     ]
    },
    {
     "name": "stderr",
     "output_type": "stream",
     "text": [
      "c:\\Users\\Komiyama Yuji\\AppData\\Local\\Programs\\Python\\Python311\\Lib\\site-packages\\lightgbm\\engine.py:172: UserWarning: Found `n_estimators` in params. Will use it instead of argument\n",
      "  _log_warning(f\"Found `{alias}` in params. Will use it instead of argument\")\n"
     ]
    },
    {
     "name": "stdout",
     "output_type": "stream",
     "text": [
      "Training until validation scores don't improve for 1500 rounds\n",
      "[500]\tvalid_0's binary_logloss: 0.140289\n",
      "[1000]\tvalid_0's binary_logloss: 0.136616\n",
      "[1500]\tvalid_0's binary_logloss: 0.134056\n",
      "[2000]\tvalid_0's binary_logloss: 0.133256\n",
      "[2500]\tvalid_0's binary_logloss: 0.133293\n",
      "[3000]\tvalid_0's binary_logloss: 0.133599\n",
      "[3500]\tvalid_0's binary_logloss: 0.134087\n",
      "[4000]\tvalid_0's binary_logloss: 0.134475\n",
      "Early stopping, best iteration is:\n",
      "[2680]\tvalid_0's binary_logloss: 0.133175\n"
     ]
    },
    {
     "name": "stderr",
     "output_type": "stream",
     "text": [
      " 44%|████▍     | 442/1000 [00:48<01:01,  9.11it/s]\n"
     ]
    },
    {
     "name": "stdout",
     "output_type": "stream",
     "text": [
      "fold1: (0.6524678837052063, 0.341)\n"
     ]
    },
    {
     "name": "stderr",
     "output_type": "stream",
     "text": [
      "c:\\Users\\Komiyama Yuji\\AppData\\Local\\Programs\\Python\\Python311\\Lib\\site-packages\\lightgbm\\engine.py:172: UserWarning: Found `n_estimators` in params. Will use it instead of argument\n",
      "  _log_warning(f\"Found `{alias}` in params. Will use it instead of argument\")\n"
     ]
    },
    {
     "name": "stdout",
     "output_type": "stream",
     "text": [
      "Training until validation scores don't improve for 1500 rounds\n",
      "[500]\tvalid_0's binary_logloss: 0.140271\n",
      "[1000]\tvalid_0's binary_logloss: 0.135239\n",
      "[1500]\tvalid_0's binary_logloss: 0.133008\n",
      "[2000]\tvalid_0's binary_logloss: 0.131918\n",
      "[2500]\tvalid_0's binary_logloss: 0.131418\n",
      "[3000]\tvalid_0's binary_logloss: 0.131722\n",
      "[3500]\tvalid_0's binary_logloss: 0.132003\n",
      "[4000]\tvalid_0's binary_logloss: 0.132333\n",
      "Early stopping, best iteration is:\n",
      "[2605]\tvalid_0's binary_logloss: 0.131405\n"
     ]
    },
    {
     "name": "stderr",
     "output_type": "stream",
     "text": [
      " 43%|████▎     | 430/1000 [00:41<00:55, 10.25it/s]\n"
     ]
    },
    {
     "name": "stdout",
     "output_type": "stream",
     "text": [
      "fold2: (0.6521957760643647, 0.329)\n"
     ]
    },
    {
     "name": "stderr",
     "output_type": "stream",
     "text": [
      "c:\\Users\\Komiyama Yuji\\AppData\\Local\\Programs\\Python\\Python311\\Lib\\site-packages\\lightgbm\\engine.py:172: UserWarning: Found `n_estimators` in params. Will use it instead of argument\n",
      "  _log_warning(f\"Found `{alias}` in params. Will use it instead of argument\")\n"
     ]
    },
    {
     "name": "stdout",
     "output_type": "stream",
     "text": [
      "Training until validation scores don't improve for 1500 rounds\n",
      "[500]\tvalid_0's binary_logloss: 0.141068\n",
      "[1000]\tvalid_0's binary_logloss: 0.13689\n",
      "[1500]\tvalid_0's binary_logloss: 0.134419\n",
      "[2000]\tvalid_0's binary_logloss: 0.133421\n",
      "[2500]\tvalid_0's binary_logloss: 0.133218\n",
      "[3000]\tvalid_0's binary_logloss: 0.13341\n",
      "[3500]\tvalid_0's binary_logloss: 0.13374\n",
      "Early stopping, best iteration is:\n",
      "[2305]\tvalid_0's binary_logloss: 0.133171\n"
     ]
    },
    {
     "name": "stderr",
     "output_type": "stream",
     "text": [
      " 49%|████▉     | 492/1000 [01:08<01:10,  7.20it/s]\n"
     ]
    },
    {
     "name": "stdout",
     "output_type": "stream",
     "text": [
      "fold3: (0.6488670296855787, 0.391)\n"
     ]
    },
    {
     "name": "stderr",
     "output_type": "stream",
     "text": [
      "c:\\Users\\Komiyama Yuji\\AppData\\Local\\Programs\\Python\\Python311\\Lib\\site-packages\\lightgbm\\engine.py:172: UserWarning: Found `n_estimators` in params. Will use it instead of argument\n",
      "  _log_warning(f\"Found `{alias}` in params. Will use it instead of argument\")\n"
     ]
    },
    {
     "name": "stdout",
     "output_type": "stream",
     "text": [
      "Training until validation scores don't improve for 1500 rounds\n",
      "[500]\tvalid_0's binary_logloss: 0.141598\n",
      "[1000]\tvalid_0's binary_logloss: 0.137389\n",
      "[1500]\tvalid_0's binary_logloss: 0.135463\n",
      "[2000]\tvalid_0's binary_logloss: 0.134054\n",
      "[2500]\tvalid_0's binary_logloss: 0.133732\n",
      "[3000]\tvalid_0's binary_logloss: 0.133652\n",
      "[3500]\tvalid_0's binary_logloss: 0.133825\n",
      "[4000]\tvalid_0's binary_logloss: 0.134088\n",
      "[4500]\tvalid_0's binary_logloss: 0.134607\n",
      "Early stopping, best iteration is:\n",
      "[3075]\tvalid_0's binary_logloss: 0.133555\n"
     ]
    },
    {
     "name": "stderr",
     "output_type": "stream",
     "text": [
      " 46%|████▌     | 457/1000 [00:38<00:45, 11.88it/s]\n"
     ]
    },
    {
     "name": "stdout",
     "output_type": "stream",
     "text": [
      "fold4: (0.6487368963739474, 0.356)\n",
      "\u001b[32m====== CV score ======\u001b[0m\n"
     ]
    },
    {
     "name": "stderr",
     "output_type": "stream",
     "text": [
      " 46%|████▌     | 457/1000 [03:10<03:46,  2.39it/s]"
     ]
    },
    {
     "name": "stdout",
     "output_type": "stream",
     "text": [
      "\u001b[32m(0.649981155994107, 0.356)\u001b[0m\n"
     ]
    },
    {
     "name": "stderr",
     "output_type": "stream",
     "text": [
      "\n"
     ]
    }
   ],
   "source": [
    "# ===================================================================\n",
    "#  model\n",
    "# ===================================================================\n",
    "preds, oof_df, feature_importance_df = [], pd.DataFrame(), pd.DataFrame()\n",
    "for fold in range(CFG.n_splits):\n",
    "    X_train = train[train[\"fold\"] != fold].reset_index(drop=True)\n",
    "    X_valid = train[train[\"fold\"] == fold].reset_index(drop=True)\n",
    "    test_df = test.copy()\n",
    "        \n",
    "    # params\n",
    "    lgb_param = {\n",
    "        \"task\":\"train\",\n",
    "        \"objective\": \"binary\",\n",
    "        \"boosting\":\"gbdt\",\n",
    "        \"n_estimators\": CFG.num_boost_round,\n",
    "        \"learning_rate\":0.1, # default: 0.1\n",
    "        \"num_leaves\":31, # max number of leaves in one tree ###\n",
    "        \"max_depth\":3, # default -1, int: limit the max depth for tree model ###\n",
    "        \"min_child_weight\":1e-3, # double: minimal sum hessian in one leaf\n",
    "        \"min_data_in_leaf\":20, # minimal number of data in one leaf\n",
    "        \"alpha\":0.9, # double, constraints, alpha > 0.0: \n",
    "        \"colsample_bytree\":1.0, # 0 < \"colsample_bytree\" < 1\n",
    "        #: LightGBM will randomly select a subset of features on each iteration (tree) if feature_fraction is smaller than 1.0\n",
    "        \"lambda\": 0, #lambda_l2 >= 0.0: L2 regularization\n",
    "        \"subsample\":1, #0.0 < bagging_fraction <= 1.0\n",
    "        \"num_threads\":NUM_CORES,\n",
    "        \"metric\": 'binary_logloss',\n",
    "        \"seed\" : CFG.seed,\n",
    "        \"verbosity\": -1,   \n",
    "        }\n",
    "\n",
    "    # train\n",
    "    lgb_train = lgb.Dataset(X_train[CFG.use_features], X_train[CFG.target_cols], categorical_feature = CFG.categorical_features,)\n",
    "    lgb_valid = lgb.Dataset(X_valid[CFG.use_features], X_valid[CFG.target_cols], categorical_feature = CFG.categorical_features,)\n",
    "\n",
    "    model = lgb.train(\n",
    "                    lgb_param, \n",
    "                    lgb_train, \n",
    "                    valid_sets=[lgb_valid],\n",
    "                    categorical_feature = CFG.categorical_features,\n",
    "                    callbacks=[lgb.early_stopping(stopping_rounds=CFG.stopping_rounds, verbose=True),\n",
    "                               lgb.log_evaluation(period=500, show_stdv=False)],\n",
    "                    )\n",
    "\n",
    "    # feature importance\n",
    "    feature_importance_df[f\"importance_fold{fold}\"] = model.feature_importance(importance_type='gain')\n",
    "\n",
    "    # eval\n",
    "    X_valid[f\"pred\"] = model.predict(X_valid[CFG.use_features], num_iteration=model.best_iteration)\n",
    "    print(f\"fold{fold}:\", get_score(y_true=X_valid[CFG.target_cols], y_pred=X_valid[\"pred\"]))\n",
    "\n",
    "    # concat\n",
    "    oof_df = pd.concat([oof_df, X_valid], ignore_index=True)\n",
    "\n",
    "    # pred test\n",
    "    preds.append(model.predict(test_df[CFG.use_features]))\n",
    "    \n",
    "feature_importance_df[\"feature\"] = CFG.use_features\n",
    "print('\\033[32m'+\"====== CV score ======\"+'\\033[0m')\n",
    "print('\\033[32m'+f'{get_score(oof_df[CFG.target_cols], oof_df[\"pred\"])}'+'\\033[0m')\n",
    "predictions = np.mean(preds, axis=0)"
   ]
  },
  {
   "cell_type": "markdown",
   "metadata": {},
   "source": [
    "| max_depth | fold0 score | LB |\n",
    "| - | - | - |\n",
    "| -1 | 0.6450572761985575 | |\n",
    "| 2 | 0.6494149799299683 | |\n",
    "| 3 | 0.6518242614069246 | |\n",
    "| 4 | 0.6496256132197262 | |\n",
    "| 5 | 0.6469190290273298 | |\n",
    "| 7 | 0.6470282446716341 | |"
   ]
  },
  {
   "cell_type": "code",
   "execution_count": 23,
   "metadata": {},
   "outputs": [
    {
     "data": {
      "image/png": "[encoded data removed]",
      "text/plain": [
       "<Figure size 800x1600 with 1 Axes>"
      ]
     },
     "metadata": {},
     "output_type": "display_data"
    }
   ],
   "source": [
    "# ===================================================================\n",
    "#  plot feature importance\n",
    "# ===================================================================\n",
    "feature_importance_df.fillna(value=0, inplace=True)\n",
    "feature_importance_df[\"average\"] = feature_importance_df.loc[:, 'importance_fold0':f'importance_fold{CFG.n_splits-1}'].mean(axis=1)\n",
    "best_features = feature_importance_df[[\"feature\", \"average\"]].groupby(\"feature\", as_index=False).mean().sort_values(by=\"average\", ascending=False).head(50)\n",
    "plt.figure(figsize=(8, 16))\n",
    "sns.barplot(x=\"average\", y=\"feature\", data=best_features)\n",
    "plt.title('Features importance (averaged/folds)')\n",
    "plt.tight_layout()"
   ]
  },
  {
   "cell_type": "code",
   "execution_count": 25,
   "metadata": {},
   "outputs": [
    {
     "name": "stdout",
     "output_type": "stream",
     "text": [
      "0 1\n"
     ]
    }
   ],
   "source": [
    "# ===================================================================\n",
    "#  prediction\n",
    "# ===================================================================\n",
    "test[\"pred\"] = [1 if y > 0.356 else 0 for y in predictions]\n",
    "print(test[\"pred\"].min(), test[\"pred\"].max())\n",
    "test[[\"index\", \"pred\"]].to_csv(CFG.save_dir+\"exp001.csv\", index=False, header=None)"
   ]
  }
 ],
 "metadata": {
  "kernelspec": {
   "display_name": "Python 3",
   "language": "python",
   "name": "python3"
  },
  "language_info": {
   "codemirror_mode": {
    "name": "ipython",
    "version": 3
   },
   "file_extension": ".py",
   "mimetype": "text/x-python",
   "name": "python",
   "nbconvert_exporter": "python",
   "pygments_lexer": "ipython3",
   "version": "3.11.4"
  },
  "orig_nbformat": 4
 },
 "nbformat": 4,
 "nbformat_minor": 2
}
