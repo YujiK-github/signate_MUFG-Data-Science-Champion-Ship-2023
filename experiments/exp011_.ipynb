{
 "cells": [
  {
   "cell_type": "code",
   "execution_count": 1,
   "metadata": {},
   "outputs": [],
   "source": [
    "import polars as pl"
   ]
  },
  {
   "cell_type": "code",
   "execution_count": 2,
   "metadata": {},
   "outputs": [
    {
     "data": {
      "text/html": [
       "<div><style>\n",
       ".dataframe > thead > tr > th,\n",
       ".dataframe > tbody > tr > td {\n",
       "  text-align: right;\n",
       "}\n",
       "</style>\n",
       "<small>shape: (5, 2)</small><table border=\"1\" class=\"dataframe\"><thead><tr><th>id</th><th>pred</th></tr><tr><td>i64</td><td>i32</td></tr></thead><tbody><tr><td>471283</td><td>0</td></tr><tr><td>471284</td><td>0</td></tr><tr><td>471285</td><td>0</td></tr><tr><td>471286</td><td>1</td></tr><tr><td>471287</td><td>0</td></tr></tbody></table></div>"
      ],
      "text/plain": [
       "shape: (5, 2)\n",
       "┌────────┬──────┐\n",
       "│ id     ┆ pred │\n",
       "│ ---    ┆ ---  │\n",
       "│ i64    ┆ i32  │\n",
       "╞════════╪══════╡\n",
       "│ 471283 ┆ 0    │\n",
       "│ 471284 ┆ 0    │\n",
       "│ 471285 ┆ 0    │\n",
       "│ 471286 ┆ 1    │\n",
       "│ 471287 ┆ 0    │\n",
       "└────────┴──────┘"
      ]
     },
     "execution_count": 2,
     "metadata": {},
     "output_type": "execute_result"
    }
   ],
   "source": [
    "df = pl.read_csv(\"G:/マイドライブ/signate_MUFJ2023/exp/exp011.csv\", has_header=False, new_columns=[\"id\", \"pred\"])\n",
    "df = df.with_columns(\n",
    "    [\n",
    "        pl.when(pl.col(\"pred\") > 0.33)\n",
    "        .then(1)\n",
    "        .otherwise(0)\n",
    "        .alias(\"pred\")\n",
    "    ]\n",
    ")\n",
    "df.head()"
   ]
  },
  {
   "cell_type": "code",
   "execution_count": 3,
   "metadata": {},
   "outputs": [],
   "source": [
    "df[[\"id\", \"pred\"]].write_csv(\"G:/マイドライブ/signate_MUFJ2023/exp/exp011_.csv\", has_header=False)"
   ]
  }
 ],
 "metadata": {
  "kernelspec": {
   "display_name": "Python 3",
   "language": "python",
   "name": "python3"
  },
  "language_info": {
   "codemirror_mode": {
    "name": "ipython",
    "version": 3
   },
   "file_extension": ".py",
   "mimetype": "text/x-python",
   "name": "python",
   "nbconvert_exporter": "python",
   "pygments_lexer": "ipython3",
   "version": "3.11.4"
  },
  "orig_nbformat": 4
 },
 "nbformat": 4,
 "nbformat_minor": 2
}
